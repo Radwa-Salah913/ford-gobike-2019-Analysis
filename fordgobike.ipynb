{
 "cells": [
  {
   "cell_type": "markdown",
   "metadata": {},
   "source": [
    "## Import libraries and read Data"
   ]
  },
  {
   "cell_type": "code",
   "execution_count": 2,
   "metadata": {},
   "outputs": [],
   "source": [
    "import pandas as pd\n",
    "import numpy as np\n",
    "import matplotlib.pyplot as plt\n",
    "import seaborn as sns"
   ]
  },
  {
   "cell_type": "code",
   "execution_count": 3,
   "metadata": {},
   "outputs": [],
   "source": [
    "df=pd.read_csv(r'c:\\Users\\dell\\Downloads\\201904-fordgobike-tripdata.csv')"
   ]
  },
  {
   "cell_type": "markdown",
   "metadata": {},
   "source": [
    "## Data Representation"
   ]
  },
  {
   "cell_type": "code",
   "execution_count": 4,
   "metadata": {},
   "outputs": [
    {
     "data": {
      "text/html": [
       "<div>\n",
       "<style scoped>\n",
       "    .dataframe tbody tr th:only-of-type {\n",
       "        vertical-align: middle;\n",
       "    }\n",
       "\n",
       "    .dataframe tbody tr th {\n",
       "        vertical-align: top;\n",
       "    }\n",
       "\n",
       "    .dataframe thead th {\n",
       "        text-align: right;\n",
       "    }\n",
       "</style>\n",
       "<table border=\"1\" class=\"dataframe\">\n",
       "  <thead>\n",
       "    <tr style=\"text-align: right;\">\n",
       "      <th></th>\n",
       "      <th>duration_sec</th>\n",
       "      <th>start_time</th>\n",
       "      <th>end_time</th>\n",
       "      <th>start_station_id</th>\n",
       "      <th>start_station_name</th>\n",
       "      <th>start_station_latitude</th>\n",
       "      <th>start_station_longitude</th>\n",
       "      <th>end_station_id</th>\n",
       "      <th>end_station_name</th>\n",
       "      <th>end_station_latitude</th>\n",
       "      <th>end_station_longitude</th>\n",
       "      <th>bike_id</th>\n",
       "      <th>user_type</th>\n",
       "      <th>member_birth_year</th>\n",
       "      <th>member_gender</th>\n",
       "      <th>bike_share_for_all_trip</th>\n",
       "    </tr>\n",
       "  </thead>\n",
       "  <tbody>\n",
       "    <tr>\n",
       "      <th>0</th>\n",
       "      <td>50305</td>\n",
       "      <td>2019-04-30 22:33:55.1550</td>\n",
       "      <td>2019-05-01 12:32:20.4540</td>\n",
       "      <td>368.0</td>\n",
       "      <td>Myrtle St at Polk St</td>\n",
       "      <td>37.785434</td>\n",
       "      <td>-122.419622</td>\n",
       "      <td>324.0</td>\n",
       "      <td>Union Square (Powell St at Post St)</td>\n",
       "      <td>37.788300</td>\n",
       "      <td>-122.408531</td>\n",
       "      <td>2749</td>\n",
       "      <td>Subscriber</td>\n",
       "      <td>1989.0</td>\n",
       "      <td>Female</td>\n",
       "      <td>No</td>\n",
       "    </tr>\n",
       "    <tr>\n",
       "      <th>1</th>\n",
       "      <td>53725</td>\n",
       "      <td>2019-04-30 20:43:41.6320</td>\n",
       "      <td>2019-05-01 11:39:06.9170</td>\n",
       "      <td>246.0</td>\n",
       "      <td>Berkeley Civic Center</td>\n",
       "      <td>37.869060</td>\n",
       "      <td>-122.270556</td>\n",
       "      <td>241.0</td>\n",
       "      <td>Ashby BART Station</td>\n",
       "      <td>37.852477</td>\n",
       "      <td>-122.270213</td>\n",
       "      <td>2608</td>\n",
       "      <td>Customer</td>\n",
       "      <td>NaN</td>\n",
       "      <td>NaN</td>\n",
       "      <td>No</td>\n",
       "    </tr>\n",
       "    <tr>\n",
       "      <th>2</th>\n",
       "      <td>78072</td>\n",
       "      <td>2019-04-30 10:32:46.4890</td>\n",
       "      <td>2019-05-01 08:13:58.9750</td>\n",
       "      <td>64.0</td>\n",
       "      <td>5th St at Brannan St</td>\n",
       "      <td>37.776754</td>\n",
       "      <td>-122.399018</td>\n",
       "      <td>64.0</td>\n",
       "      <td>5th St at Brannan St</td>\n",
       "      <td>37.776754</td>\n",
       "      <td>-122.399018</td>\n",
       "      <td>258</td>\n",
       "      <td>Subscriber</td>\n",
       "      <td>1993.0</td>\n",
       "      <td>Male</td>\n",
       "      <td>No</td>\n",
       "    </tr>\n",
       "    <tr>\n",
       "      <th>3</th>\n",
       "      <td>78969</td>\n",
       "      <td>2019-04-30 10:00:51.5500</td>\n",
       "      <td>2019-05-01 07:57:01.2620</td>\n",
       "      <td>67.0</td>\n",
       "      <td>San Francisco Caltrain Station 2  (Townsend St...</td>\n",
       "      <td>37.776639</td>\n",
       "      <td>-122.395526</td>\n",
       "      <td>89.0</td>\n",
       "      <td>Division St at Potrero Ave</td>\n",
       "      <td>37.769218</td>\n",
       "      <td>-122.407646</td>\n",
       "      <td>1974</td>\n",
       "      <td>Subscriber</td>\n",
       "      <td>1972.0</td>\n",
       "      <td>Male</td>\n",
       "      <td>No</td>\n",
       "    </tr>\n",
       "    <tr>\n",
       "      <th>4</th>\n",
       "      <td>1128</td>\n",
       "      <td>2019-04-30 23:59:04.7390</td>\n",
       "      <td>2019-05-01 00:17:53.0910</td>\n",
       "      <td>124.0</td>\n",
       "      <td>19th St at Florida St</td>\n",
       "      <td>37.760447</td>\n",
       "      <td>-122.410807</td>\n",
       "      <td>5.0</td>\n",
       "      <td>Powell St BART Station (Market St at 5th St)</td>\n",
       "      <td>37.783899</td>\n",
       "      <td>-122.408445</td>\n",
       "      <td>877</td>\n",
       "      <td>Subscriber</td>\n",
       "      <td>1973.0</td>\n",
       "      <td>Male</td>\n",
       "      <td>No</td>\n",
       "    </tr>\n",
       "  </tbody>\n",
       "</table>\n",
       "</div>"
      ],
      "text/plain": [
       "   duration_sec                start_time                  end_time  \\\n",
       "0         50305  2019-04-30 22:33:55.1550  2019-05-01 12:32:20.4540   \n",
       "1         53725  2019-04-30 20:43:41.6320  2019-05-01 11:39:06.9170   \n",
       "2         78072  2019-04-30 10:32:46.4890  2019-05-01 08:13:58.9750   \n",
       "3         78969  2019-04-30 10:00:51.5500  2019-05-01 07:57:01.2620   \n",
       "4          1128  2019-04-30 23:59:04.7390  2019-05-01 00:17:53.0910   \n",
       "\n",
       "   start_station_id                                 start_station_name  \\\n",
       "0             368.0                               Myrtle St at Polk St   \n",
       "1             246.0                              Berkeley Civic Center   \n",
       "2              64.0                               5th St at Brannan St   \n",
       "3              67.0  San Francisco Caltrain Station 2  (Townsend St...   \n",
       "4             124.0                              19th St at Florida St   \n",
       "\n",
       "   start_station_latitude  start_station_longitude  end_station_id  \\\n",
       "0               37.785434              -122.419622           324.0   \n",
       "1               37.869060              -122.270556           241.0   \n",
       "2               37.776754              -122.399018            64.0   \n",
       "3               37.776639              -122.395526            89.0   \n",
       "4               37.760447              -122.410807             5.0   \n",
       "\n",
       "                               end_station_name  end_station_latitude  \\\n",
       "0           Union Square (Powell St at Post St)             37.788300   \n",
       "1                            Ashby BART Station             37.852477   \n",
       "2                          5th St at Brannan St             37.776754   \n",
       "3                    Division St at Potrero Ave             37.769218   \n",
       "4  Powell St BART Station (Market St at 5th St)             37.783899   \n",
       "\n",
       "   end_station_longitude  bike_id   user_type  member_birth_year  \\\n",
       "0            -122.408531     2749  Subscriber             1989.0   \n",
       "1            -122.270213     2608    Customer                NaN   \n",
       "2            -122.399018      258  Subscriber             1993.0   \n",
       "3            -122.407646     1974  Subscriber             1972.0   \n",
       "4            -122.408445      877  Subscriber             1973.0   \n",
       "\n",
       "  member_gender bike_share_for_all_trip  \n",
       "0        Female                      No  \n",
       "1           NaN                      No  \n",
       "2          Male                      No  \n",
       "3          Male                      No  \n",
       "4          Male                      No  "
      ]
     },
     "execution_count": 4,
     "metadata": {},
     "output_type": "execute_result"
    }
   ],
   "source": [
    "df.head()"
   ]
  },
  {
   "cell_type": "code",
   "execution_count": 5,
   "metadata": {},
   "outputs": [
    {
     "data": {
      "text/plain": [
       "(239111, 16)"
      ]
     },
     "execution_count": 5,
     "metadata": {},
     "output_type": "execute_result"
    }
   ],
   "source": [
    "df.shape"
   ]
  },
  {
   "cell_type": "code",
   "execution_count": 6,
   "metadata": {},
   "outputs": [
    {
     "name": "stdout",
     "output_type": "stream",
     "text": [
      "<class 'pandas.core.frame.DataFrame'>\n",
      "RangeIndex: 239111 entries, 0 to 239110\n",
      "Data columns (total 16 columns):\n",
      " #   Column                   Non-Null Count   Dtype  \n",
      "---  ------                   --------------   -----  \n",
      " 0   duration_sec             239111 non-null  int64  \n",
      " 1   start_time               239111 non-null  object \n",
      " 2   end_time                 239111 non-null  object \n",
      " 3   start_station_id         239047 non-null  float64\n",
      " 4   start_station_name       239047 non-null  object \n",
      " 5   start_station_latitude   239111 non-null  float64\n",
      " 6   start_station_longitude  239111 non-null  float64\n",
      " 7   end_station_id           239047 non-null  float64\n",
      " 8   end_station_name         239047 non-null  object \n",
      " 9   end_station_latitude     239111 non-null  float64\n",
      " 10  end_station_longitude    239111 non-null  float64\n",
      " 11  bike_id                  239111 non-null  int64  \n",
      " 12  user_type                239111 non-null  object \n",
      " 13  member_birth_year        227912 non-null  float64\n",
      " 14  member_gender            227912 non-null  object \n",
      " 15  bike_share_for_all_trip  239111 non-null  object \n",
      "dtypes: float64(7), int64(2), object(7)\n",
      "memory usage: 29.2+ MB\n"
     ]
    }
   ],
   "source": [
    "df.info()"
   ]
  },
  {
   "cell_type": "code",
   "execution_count": 7,
   "metadata": {},
   "outputs": [
    {
     "data": {
      "text/html": [
       "<div>\n",
       "<style scoped>\n",
       "    .dataframe tbody tr th:only-of-type {\n",
       "        vertical-align: middle;\n",
       "    }\n",
       "\n",
       "    .dataframe tbody tr th {\n",
       "        vertical-align: top;\n",
       "    }\n",
       "\n",
       "    .dataframe thead th {\n",
       "        text-align: right;\n",
       "    }\n",
       "</style>\n",
       "<table border=\"1\" class=\"dataframe\">\n",
       "  <thead>\n",
       "    <tr style=\"text-align: right;\">\n",
       "      <th></th>\n",
       "      <th>duration_sec</th>\n",
       "      <th>start_station_id</th>\n",
       "      <th>start_station_latitude</th>\n",
       "      <th>start_station_longitude</th>\n",
       "      <th>end_station_id</th>\n",
       "      <th>end_station_latitude</th>\n",
       "      <th>end_station_longitude</th>\n",
       "      <th>bike_id</th>\n",
       "      <th>member_birth_year</th>\n",
       "    </tr>\n",
       "  </thead>\n",
       "  <tbody>\n",
       "    <tr>\n",
       "      <th>count</th>\n",
       "      <td>239111.000000</td>\n",
       "      <td>239047.000000</td>\n",
       "      <td>239111.000000</td>\n",
       "      <td>239111.000000</td>\n",
       "      <td>239047.000000</td>\n",
       "      <td>239111.000000</td>\n",
       "      <td>239111.000000</td>\n",
       "      <td>239111.000000</td>\n",
       "      <td>227912.000000</td>\n",
       "    </tr>\n",
       "    <tr>\n",
       "      <th>mean</th>\n",
       "      <td>802.671199</td>\n",
       "      <td>141.836538</td>\n",
       "      <td>37.769536</td>\n",
       "      <td>-122.352503</td>\n",
       "      <td>140.838099</td>\n",
       "      <td>37.766996</td>\n",
       "      <td>-122.343420</td>\n",
       "      <td>3666.956493</td>\n",
       "      <td>1984.863250</td>\n",
       "    </tr>\n",
       "    <tr>\n",
       "      <th>std</th>\n",
       "      <td>1990.006091</td>\n",
       "      <td>116.289776</td>\n",
       "      <td>0.127698</td>\n",
       "      <td>0.277088</td>\n",
       "      <td>116.386168</td>\n",
       "      <td>0.343083</td>\n",
       "      <td>1.068144</td>\n",
       "      <td>2180.717333</td>\n",
       "      <td>9.953144</td>\n",
       "    </tr>\n",
       "    <tr>\n",
       "      <th>min</th>\n",
       "      <td>61.000000</td>\n",
       "      <td>3.000000</td>\n",
       "      <td>0.000000</td>\n",
       "      <td>-122.453704</td>\n",
       "      <td>3.000000</td>\n",
       "      <td>0.000000</td>\n",
       "      <td>-122.453704</td>\n",
       "      <td>11.000000</td>\n",
       "      <td>1878.000000</td>\n",
       "    </tr>\n",
       "    <tr>\n",
       "      <th>25%</th>\n",
       "      <td>349.000000</td>\n",
       "      <td>47.000000</td>\n",
       "      <td>37.770083</td>\n",
       "      <td>-122.413004</td>\n",
       "      <td>44.000000</td>\n",
       "      <td>37.770407</td>\n",
       "      <td>-122.411738</td>\n",
       "      <td>1720.000000</td>\n",
       "      <td>1980.000000</td>\n",
       "    </tr>\n",
       "    <tr>\n",
       "      <th>50%</th>\n",
       "      <td>558.000000</td>\n",
       "      <td>104.000000</td>\n",
       "      <td>37.780760</td>\n",
       "      <td>-122.398285</td>\n",
       "      <td>102.000000</td>\n",
       "      <td>37.780955</td>\n",
       "      <td>-122.397437</td>\n",
       "      <td>3471.000000</td>\n",
       "      <td>1987.000000</td>\n",
       "    </tr>\n",
       "    <tr>\n",
       "      <th>75%</th>\n",
       "      <td>876.000000</td>\n",
       "      <td>240.000000</td>\n",
       "      <td>37.797280</td>\n",
       "      <td>-122.291209</td>\n",
       "      <td>239.000000</td>\n",
       "      <td>37.797320</td>\n",
       "      <td>-122.291376</td>\n",
       "      <td>5749.000000</td>\n",
       "      <td>1992.000000</td>\n",
       "    </tr>\n",
       "    <tr>\n",
       "      <th>max</th>\n",
       "      <td>86114.000000</td>\n",
       "      <td>420.000000</td>\n",
       "      <td>37.880222</td>\n",
       "      <td>0.000000</td>\n",
       "      <td>420.000000</td>\n",
       "      <td>37.880222</td>\n",
       "      <td>0.000000</td>\n",
       "      <td>7108.000000</td>\n",
       "      <td>2001.000000</td>\n",
       "    </tr>\n",
       "  </tbody>\n",
       "</table>\n",
       "</div>"
      ],
      "text/plain": [
       "        duration_sec  start_station_id  start_station_latitude  \\\n",
       "count  239111.000000     239047.000000           239111.000000   \n",
       "mean      802.671199        141.836538               37.769536   \n",
       "std      1990.006091        116.289776                0.127698   \n",
       "min        61.000000          3.000000                0.000000   \n",
       "25%       349.000000         47.000000               37.770083   \n",
       "50%       558.000000        104.000000               37.780760   \n",
       "75%       876.000000        240.000000               37.797280   \n",
       "max     86114.000000        420.000000               37.880222   \n",
       "\n",
       "       start_station_longitude  end_station_id  end_station_latitude  \\\n",
       "count            239111.000000   239047.000000         239111.000000   \n",
       "mean               -122.352503      140.838099             37.766996   \n",
       "std                   0.277088      116.386168              0.343083   \n",
       "min                -122.453704        3.000000              0.000000   \n",
       "25%                -122.413004       44.000000             37.770407   \n",
       "50%                -122.398285      102.000000             37.780955   \n",
       "75%                -122.291209      239.000000             37.797320   \n",
       "max                   0.000000      420.000000             37.880222   \n",
       "\n",
       "       end_station_longitude        bike_id  member_birth_year  \n",
       "count          239111.000000  239111.000000      227912.000000  \n",
       "mean             -122.343420    3666.956493        1984.863250  \n",
       "std                 1.068144    2180.717333           9.953144  \n",
       "min              -122.453704      11.000000        1878.000000  \n",
       "25%              -122.411738    1720.000000        1980.000000  \n",
       "50%              -122.397437    3471.000000        1987.000000  \n",
       "75%              -122.291376    5749.000000        1992.000000  \n",
       "max                 0.000000    7108.000000        2001.000000  "
      ]
     },
     "execution_count": 7,
     "metadata": {},
     "output_type": "execute_result"
    }
   ],
   "source": [
    "df.describe()"
   ]
  },
  {
   "cell_type": "markdown",
   "metadata": {},
   "source": [
    "## Data Cleaning"
   ]
  },
  {
   "cell_type": "code",
   "execution_count": 8,
   "metadata": {},
   "outputs": [
    {
     "data": {
      "text/plain": [
       "4520"
      ]
     },
     "execution_count": 8,
     "metadata": {},
     "output_type": "execute_result"
    }
   ],
   "source": [
    "len(df['bike_id'].unique())"
   ]
  },
  {
   "cell_type": "markdown",
   "metadata": {},
   "source": [
    "#### Handle duplicates"
   ]
  },
  {
   "cell_type": "code",
   "execution_count": 9,
   "metadata": {},
   "outputs": [
    {
     "data": {
      "text/plain": [
       "0"
      ]
     },
     "execution_count": 9,
     "metadata": {},
     "output_type": "execute_result"
    }
   ],
   "source": [
    "df.duplicated().sum()"
   ]
  },
  {
   "cell_type": "markdown",
   "metadata": {},
   "source": [
    "#### Handle Datatype"
   ]
  },
  {
   "cell_type": "code",
   "execution_count": 10,
   "metadata": {},
   "outputs": [],
   "source": [
    "df['start_time'] = pd.to_datetime(df['start_time'])\n",
    "df['end_time'] = pd.to_datetime(df['end_time'])\n",
    "\n",
    "#df['member_birth_year']=df['member_birth_year'].fillna(0).astype('int64')\n",
    "#df['end_station_id']=df['end_station_id'].fillna(0).astype('int64')\n",
    "#df['start_station_id']=df['start_station_id'].fillna(0).astype('int64')"
   ]
  },
  {
   "cell_type": "markdown",
   "metadata": {},
   "source": [
    "#### Handle Missing Values using imputation method"
   ]
  },
  {
   "cell_type": "code",
   "execution_count": 11,
   "metadata": {},
   "outputs": [
    {
     "data": {
      "text/plain": [
       "duration_sec                   0\n",
       "start_time                     0\n",
       "end_time                       0\n",
       "start_station_id              64\n",
       "start_station_name            64\n",
       "start_station_latitude         0\n",
       "start_station_longitude        0\n",
       "end_station_id                64\n",
       "end_station_name              64\n",
       "end_station_latitude           0\n",
       "end_station_longitude          0\n",
       "bike_id                        0\n",
       "user_type                      0\n",
       "member_birth_year          11199\n",
       "member_gender              11199\n",
       "bike_share_for_all_trip        0\n",
       "dtype: int64"
      ]
     },
     "execution_count": 11,
     "metadata": {},
     "output_type": "execute_result"
    }
   ],
   "source": [
    "df.isna().sum()"
   ]
  },
  {
   "cell_type": "code",
   "execution_count": 12,
   "metadata": {},
   "outputs": [
    {
     "data": {
      "text/html": [
       "<div>\n",
       "<style scoped>\n",
       "    .dataframe tbody tr th:only-of-type {\n",
       "        vertical-align: middle;\n",
       "    }\n",
       "\n",
       "    .dataframe tbody tr th {\n",
       "        vertical-align: top;\n",
       "    }\n",
       "\n",
       "    .dataframe thead th {\n",
       "        text-align: right;\n",
       "    }\n",
       "</style>\n",
       "<table border=\"1\" class=\"dataframe\">\n",
       "  <thead>\n",
       "    <tr style=\"text-align: right;\">\n",
       "      <th></th>\n",
       "      <th>duration_sec</th>\n",
       "      <th>start_time</th>\n",
       "      <th>end_time</th>\n",
       "      <th>start_station_id</th>\n",
       "      <th>start_station_name</th>\n",
       "      <th>start_station_latitude</th>\n",
       "      <th>start_station_longitude</th>\n",
       "      <th>end_station_id</th>\n",
       "      <th>end_station_name</th>\n",
       "      <th>end_station_latitude</th>\n",
       "      <th>end_station_longitude</th>\n",
       "      <th>bike_id</th>\n",
       "      <th>user_type</th>\n",
       "      <th>member_birth_year</th>\n",
       "      <th>member_gender</th>\n",
       "      <th>bike_share_for_all_trip</th>\n",
       "    </tr>\n",
       "  </thead>\n",
       "  <tbody>\n",
       "    <tr>\n",
       "      <th>10983</th>\n",
       "      <td>1131</td>\n",
       "      <td>2019-04-29 15:30:48.389</td>\n",
       "      <td>2019-04-29 15:49:39.480</td>\n",
       "      <td>NaN</td>\n",
       "      <td>NaN</td>\n",
       "      <td>37.41</td>\n",
       "      <td>-121.95</td>\n",
       "      <td>NaN</td>\n",
       "      <td>NaN</td>\n",
       "      <td>37.42</td>\n",
       "      <td>-121.96</td>\n",
       "      <td>4106</td>\n",
       "      <td>Customer</td>\n",
       "      <td>1979.0</td>\n",
       "      <td>Female</td>\n",
       "      <td>No</td>\n",
       "    </tr>\n",
       "    <tr>\n",
       "      <th>11568</th>\n",
       "      <td>268</td>\n",
       "      <td>2019-04-29 13:12:08.928</td>\n",
       "      <td>2019-04-29 13:16:37.874</td>\n",
       "      <td>NaN</td>\n",
       "      <td>NaN</td>\n",
       "      <td>37.41</td>\n",
       "      <td>-121.94</td>\n",
       "      <td>NaN</td>\n",
       "      <td>NaN</td>\n",
       "      <td>37.41</td>\n",
       "      <td>-121.94</td>\n",
       "      <td>4106</td>\n",
       "      <td>Customer</td>\n",
       "      <td>1991.0</td>\n",
       "      <td>Male</td>\n",
       "      <td>No</td>\n",
       "    </tr>\n",
       "    <tr>\n",
       "      <th>14814</th>\n",
       "      <td>669</td>\n",
       "      <td>2019-04-28 23:02:16.286</td>\n",
       "      <td>2019-04-28 23:13:25.667</td>\n",
       "      <td>NaN</td>\n",
       "      <td>NaN</td>\n",
       "      <td>37.40</td>\n",
       "      <td>-121.95</td>\n",
       "      <td>NaN</td>\n",
       "      <td>NaN</td>\n",
       "      <td>37.40</td>\n",
       "      <td>-121.94</td>\n",
       "      <td>4285</td>\n",
       "      <td>Customer</td>\n",
       "      <td>1989.0</td>\n",
       "      <td>Female</td>\n",
       "      <td>No</td>\n",
       "    </tr>\n",
       "    <tr>\n",
       "      <th>16067</th>\n",
       "      <td>94</td>\n",
       "      <td>2019-04-28 16:30:12.368</td>\n",
       "      <td>2019-04-28 16:31:46.866</td>\n",
       "      <td>NaN</td>\n",
       "      <td>NaN</td>\n",
       "      <td>37.40</td>\n",
       "      <td>-121.95</td>\n",
       "      <td>NaN</td>\n",
       "      <td>NaN</td>\n",
       "      <td>37.40</td>\n",
       "      <td>-121.95</td>\n",
       "      <td>4285</td>\n",
       "      <td>Customer</td>\n",
       "      <td>1986.0</td>\n",
       "      <td>Male</td>\n",
       "      <td>No</td>\n",
       "    </tr>\n",
       "    <tr>\n",
       "      <th>17179</th>\n",
       "      <td>2389</td>\n",
       "      <td>2019-04-28 12:24:07.683</td>\n",
       "      <td>2019-04-28 13:03:57.471</td>\n",
       "      <td>NaN</td>\n",
       "      <td>NaN</td>\n",
       "      <td>37.40</td>\n",
       "      <td>-121.94</td>\n",
       "      <td>NaN</td>\n",
       "      <td>NaN</td>\n",
       "      <td>37.40</td>\n",
       "      <td>-121.94</td>\n",
       "      <td>4244</td>\n",
       "      <td>Customer</td>\n",
       "      <td>1966.0</td>\n",
       "      <td>Female</td>\n",
       "      <td>No</td>\n",
       "    </tr>\n",
       "    <tr>\n",
       "      <th>...</th>\n",
       "      <td>...</td>\n",
       "      <td>...</td>\n",
       "      <td>...</td>\n",
       "      <td>...</td>\n",
       "      <td>...</td>\n",
       "      <td>...</td>\n",
       "      <td>...</td>\n",
       "      <td>...</td>\n",
       "      <td>...</td>\n",
       "      <td>...</td>\n",
       "      <td>...</td>\n",
       "      <td>...</td>\n",
       "      <td>...</td>\n",
       "      <td>...</td>\n",
       "      <td>...</td>\n",
       "      <td>...</td>\n",
       "    </tr>\n",
       "    <tr>\n",
       "      <th>226208</th>\n",
       "      <td>681</td>\n",
       "      <td>2019-04-02 12:27:15.531</td>\n",
       "      <td>2019-04-02 12:38:36.932</td>\n",
       "      <td>NaN</td>\n",
       "      <td>NaN</td>\n",
       "      <td>37.39</td>\n",
       "      <td>-121.93</td>\n",
       "      <td>NaN</td>\n",
       "      <td>NaN</td>\n",
       "      <td>37.40</td>\n",
       "      <td>-121.93</td>\n",
       "      <td>4211</td>\n",
       "      <td>Subscriber</td>\n",
       "      <td>1986.0</td>\n",
       "      <td>Male</td>\n",
       "      <td>No</td>\n",
       "    </tr>\n",
       "    <tr>\n",
       "      <th>230020</th>\n",
       "      <td>4803</td>\n",
       "      <td>2019-04-01 19:03:07.473</td>\n",
       "      <td>2019-04-01 20:23:10.731</td>\n",
       "      <td>NaN</td>\n",
       "      <td>NaN</td>\n",
       "      <td>37.40</td>\n",
       "      <td>-121.93</td>\n",
       "      <td>NaN</td>\n",
       "      <td>NaN</td>\n",
       "      <td>37.40</td>\n",
       "      <td>-121.94</td>\n",
       "      <td>4270</td>\n",
       "      <td>Customer</td>\n",
       "      <td>1995.0</td>\n",
       "      <td>Male</td>\n",
       "      <td>No</td>\n",
       "    </tr>\n",
       "    <tr>\n",
       "      <th>232901</th>\n",
       "      <td>13460</td>\n",
       "      <td>2019-04-01 13:42:15.073</td>\n",
       "      <td>2019-04-01 17:26:35.895</td>\n",
       "      <td>NaN</td>\n",
       "      <td>NaN</td>\n",
       "      <td>37.41</td>\n",
       "      <td>-121.95</td>\n",
       "      <td>NaN</td>\n",
       "      <td>NaN</td>\n",
       "      <td>37.40</td>\n",
       "      <td>-121.94</td>\n",
       "      <td>4098</td>\n",
       "      <td>Customer</td>\n",
       "      <td>1991.0</td>\n",
       "      <td>Male</td>\n",
       "      <td>No</td>\n",
       "    </tr>\n",
       "    <tr>\n",
       "      <th>234606</th>\n",
       "      <td>229</td>\n",
       "      <td>2019-04-01 13:17:14.567</td>\n",
       "      <td>2019-04-01 13:21:03.941</td>\n",
       "      <td>NaN</td>\n",
       "      <td>NaN</td>\n",
       "      <td>37.41</td>\n",
       "      <td>-121.94</td>\n",
       "      <td>NaN</td>\n",
       "      <td>NaN</td>\n",
       "      <td>37.41</td>\n",
       "      <td>-121.94</td>\n",
       "      <td>4098</td>\n",
       "      <td>Customer</td>\n",
       "      <td>1991.0</td>\n",
       "      <td>Male</td>\n",
       "      <td>No</td>\n",
       "    </tr>\n",
       "    <tr>\n",
       "      <th>238139</th>\n",
       "      <td>647</td>\n",
       "      <td>2019-04-01 07:50:49.536</td>\n",
       "      <td>2019-04-01 08:01:37.242</td>\n",
       "      <td>NaN</td>\n",
       "      <td>NaN</td>\n",
       "      <td>37.40</td>\n",
       "      <td>-121.93</td>\n",
       "      <td>NaN</td>\n",
       "      <td>NaN</td>\n",
       "      <td>37.39</td>\n",
       "      <td>-121.93</td>\n",
       "      <td>4211</td>\n",
       "      <td>Subscriber</td>\n",
       "      <td>1983.0</td>\n",
       "      <td>Male</td>\n",
       "      <td>No</td>\n",
       "    </tr>\n",
       "  </tbody>\n",
       "</table>\n",
       "<p>64 rows × 16 columns</p>\n",
       "</div>"
      ],
      "text/plain": [
       "        duration_sec              start_time                end_time  \\\n",
       "10983           1131 2019-04-29 15:30:48.389 2019-04-29 15:49:39.480   \n",
       "11568            268 2019-04-29 13:12:08.928 2019-04-29 13:16:37.874   \n",
       "14814            669 2019-04-28 23:02:16.286 2019-04-28 23:13:25.667   \n",
       "16067             94 2019-04-28 16:30:12.368 2019-04-28 16:31:46.866   \n",
       "17179           2389 2019-04-28 12:24:07.683 2019-04-28 13:03:57.471   \n",
       "...              ...                     ...                     ...   \n",
       "226208           681 2019-04-02 12:27:15.531 2019-04-02 12:38:36.932   \n",
       "230020          4803 2019-04-01 19:03:07.473 2019-04-01 20:23:10.731   \n",
       "232901         13460 2019-04-01 13:42:15.073 2019-04-01 17:26:35.895   \n",
       "234606           229 2019-04-01 13:17:14.567 2019-04-01 13:21:03.941   \n",
       "238139           647 2019-04-01 07:50:49.536 2019-04-01 08:01:37.242   \n",
       "\n",
       "        start_station_id start_station_name  start_station_latitude  \\\n",
       "10983                NaN                NaN                   37.41   \n",
       "11568                NaN                NaN                   37.41   \n",
       "14814                NaN                NaN                   37.40   \n",
       "16067                NaN                NaN                   37.40   \n",
       "17179                NaN                NaN                   37.40   \n",
       "...                  ...                ...                     ...   \n",
       "226208               NaN                NaN                   37.39   \n",
       "230020               NaN                NaN                   37.40   \n",
       "232901               NaN                NaN                   37.41   \n",
       "234606               NaN                NaN                   37.41   \n",
       "238139               NaN                NaN                   37.40   \n",
       "\n",
       "        start_station_longitude  end_station_id end_station_name  \\\n",
       "10983                   -121.95             NaN              NaN   \n",
       "11568                   -121.94             NaN              NaN   \n",
       "14814                   -121.95             NaN              NaN   \n",
       "16067                   -121.95             NaN              NaN   \n",
       "17179                   -121.94             NaN              NaN   \n",
       "...                         ...             ...              ...   \n",
       "226208                  -121.93             NaN              NaN   \n",
       "230020                  -121.93             NaN              NaN   \n",
       "232901                  -121.95             NaN              NaN   \n",
       "234606                  -121.94             NaN              NaN   \n",
       "238139                  -121.93             NaN              NaN   \n",
       "\n",
       "        end_station_latitude  end_station_longitude  bike_id   user_type  \\\n",
       "10983                  37.42                -121.96     4106    Customer   \n",
       "11568                  37.41                -121.94     4106    Customer   \n",
       "14814                  37.40                -121.94     4285    Customer   \n",
       "16067                  37.40                -121.95     4285    Customer   \n",
       "17179                  37.40                -121.94     4244    Customer   \n",
       "...                      ...                    ...      ...         ...   \n",
       "226208                 37.40                -121.93     4211  Subscriber   \n",
       "230020                 37.40                -121.94     4270    Customer   \n",
       "232901                 37.40                -121.94     4098    Customer   \n",
       "234606                 37.41                -121.94     4098    Customer   \n",
       "238139                 37.39                -121.93     4211  Subscriber   \n",
       "\n",
       "        member_birth_year member_gender bike_share_for_all_trip  \n",
       "10983              1979.0        Female                      No  \n",
       "11568              1991.0          Male                      No  \n",
       "14814              1989.0        Female                      No  \n",
       "16067              1986.0          Male                      No  \n",
       "17179              1966.0        Female                      No  \n",
       "...                   ...           ...                     ...  \n",
       "226208             1986.0          Male                      No  \n",
       "230020             1995.0          Male                      No  \n",
       "232901             1991.0          Male                      No  \n",
       "234606             1991.0          Male                      No  \n",
       "238139             1983.0          Male                      No  \n",
       "\n",
       "[64 rows x 16 columns]"
      ]
     },
     "execution_count": 12,
     "metadata": {},
     "output_type": "execute_result"
    }
   ],
   "source": [
    "df[df['start_station_id'].isna()]  # we observated that the same rows don't have 'start_station_id' ,'start_station_name' don't have 'end_station_id', 'end_station_name'"
   ]
  },
  {
   "cell_type": "code",
   "execution_count": 13,
   "metadata": {},
   "outputs": [
    {
     "data": {
      "text/plain": [
       "0"
      ]
     },
     "execution_count": 13,
     "metadata": {},
     "output_type": "execute_result"
    }
   ],
   "source": [
    "df['member_gender'][df['start_station_id'].isna()].isna().sum() "
   ]
  },
  {
   "cell_type": "code",
   "execution_count": 14,
   "metadata": {},
   "outputs": [
    {
     "data": {
      "text/plain": [
       "0"
      ]
     },
     "execution_count": 14,
     "metadata": {},
     "output_type": "execute_result"
    }
   ],
   "source": [
    "df['member_birth_year'][df['start_station_id'].isna()].isna().sum() "
   ]
  },
  {
   "cell_type": "code",
   "execution_count": 15,
   "metadata": {},
   "outputs": [],
   "source": [
    "x=df.dropna(subset=['member_birth_year'])\n",
    "\n",
    "\n",
    "y=x[['start_station_id','end_station_id']]\n",
    "x=x.drop(['start_station_id','start_station_name','end_station_id','end_station_name'],axis=1)"
   ]
  },
  {
   "cell_type": "code",
   "execution_count": 16,
   "metadata": {},
   "outputs": [
    {
     "data": {
      "text/plain": [
       "array(['Subscriber', 'Customer'], dtype=object)"
      ]
     },
     "execution_count": 16,
     "metadata": {},
     "output_type": "execute_result"
    }
   ],
   "source": [
    "x['user_type'].unique()"
   ]
  },
  {
   "cell_type": "code",
   "execution_count": 17,
   "metadata": {},
   "outputs": [],
   "source": [
    "x['user_type'] = x['user_type'].apply(lambda x: 1 if x == 'Subscriber' else 0)\n",
    "x['member_gender'] = x['member_gender'].apply(lambda x: 1 if x == 'Male' else 0)\n",
    "x['bike_share_for_all_trip'] = x['bike_share_for_all_trip'].apply(lambda x: 1 if x == 'Yes' else 0)"
   ]
  },
  {
   "cell_type": "code",
   "execution_count": 18,
   "metadata": {},
   "outputs": [],
   "source": [
    "y_test = y[y['start_station_id'].isna()]\n",
    "y_train = y.dropna(subset=['start_station_id'])\n",
    "\n",
    "\n",
    "x_train = x.loc[y_train.index]  \n",
    "x_test = x.loc[y_test.index]\n"
   ]
  },
  {
   "cell_type": "code",
   "execution_count": 19,
   "metadata": {},
   "outputs": [
    {
     "data": {
      "text/html": [
       "<div>\n",
       "<style scoped>\n",
       "    .dataframe tbody tr th:only-of-type {\n",
       "        vertical-align: middle;\n",
       "    }\n",
       "\n",
       "    .dataframe tbody tr th {\n",
       "        vertical-align: top;\n",
       "    }\n",
       "\n",
       "    .dataframe thead th {\n",
       "        text-align: right;\n",
       "    }\n",
       "</style>\n",
       "<table border=\"1\" class=\"dataframe\">\n",
       "  <thead>\n",
       "    <tr style=\"text-align: right;\">\n",
       "      <th></th>\n",
       "      <th>start_station_id</th>\n",
       "      <th>end_station_id</th>\n",
       "    </tr>\n",
       "  </thead>\n",
       "  <tbody>\n",
       "    <tr>\n",
       "      <th>0</th>\n",
       "      <td>368.0</td>\n",
       "      <td>324.0</td>\n",
       "    </tr>\n",
       "    <tr>\n",
       "      <th>2</th>\n",
       "      <td>64.0</td>\n",
       "      <td>64.0</td>\n",
       "    </tr>\n",
       "    <tr>\n",
       "      <th>3</th>\n",
       "      <td>67.0</td>\n",
       "      <td>89.0</td>\n",
       "    </tr>\n",
       "    <tr>\n",
       "      <th>4</th>\n",
       "      <td>124.0</td>\n",
       "      <td>5.0</td>\n",
       "    </tr>\n",
       "    <tr>\n",
       "      <th>5</th>\n",
       "      <td>243.0</td>\n",
       "      <td>247.0</td>\n",
       "    </tr>\n",
       "    <tr>\n",
       "      <th>...</th>\n",
       "      <td>...</td>\n",
       "      <td>...</td>\n",
       "    </tr>\n",
       "    <tr>\n",
       "      <th>239106</th>\n",
       "      <td>133.0</td>\n",
       "      <td>132.0</td>\n",
       "    </tr>\n",
       "    <tr>\n",
       "      <th>239107</th>\n",
       "      <td>78.0</td>\n",
       "      <td>77.0</td>\n",
       "    </tr>\n",
       "    <tr>\n",
       "      <th>239108</th>\n",
       "      <td>243.0</td>\n",
       "      <td>269.0</td>\n",
       "    </tr>\n",
       "    <tr>\n",
       "      <th>239109</th>\n",
       "      <td>370.0</td>\n",
       "      <td>43.0</td>\n",
       "    </tr>\n",
       "    <tr>\n",
       "      <th>239110</th>\n",
       "      <td>14.0</td>\n",
       "      <td>371.0</td>\n",
       "    </tr>\n",
       "  </tbody>\n",
       "</table>\n",
       "<p>227848 rows × 2 columns</p>\n",
       "</div>"
      ],
      "text/plain": [
       "        start_station_id  end_station_id\n",
       "0                  368.0           324.0\n",
       "2                   64.0            64.0\n",
       "3                   67.0            89.0\n",
       "4                  124.0             5.0\n",
       "5                  243.0           247.0\n",
       "...                  ...             ...\n",
       "239106             133.0           132.0\n",
       "239107              78.0            77.0\n",
       "239108             243.0           269.0\n",
       "239109             370.0            43.0\n",
       "239110              14.0           371.0\n",
       "\n",
       "[227848 rows x 2 columns]"
      ]
     },
     "execution_count": 19,
     "metadata": {},
     "output_type": "execute_result"
    }
   ],
   "source": [
    "y_train"
   ]
  },
  {
   "cell_type": "code",
   "execution_count": 20,
   "metadata": {},
   "outputs": [
    {
     "data": {
      "text/html": [
       "<div>\n",
       "<style scoped>\n",
       "    .dataframe tbody tr th:only-of-type {\n",
       "        vertical-align: middle;\n",
       "    }\n",
       "\n",
       "    .dataframe tbody tr th {\n",
       "        vertical-align: top;\n",
       "    }\n",
       "\n",
       "    .dataframe thead th {\n",
       "        text-align: right;\n",
       "    }\n",
       "</style>\n",
       "<table border=\"1\" class=\"dataframe\">\n",
       "  <thead>\n",
       "    <tr style=\"text-align: right;\">\n",
       "      <th></th>\n",
       "      <th>start_station_id</th>\n",
       "      <th>end_station_id</th>\n",
       "    </tr>\n",
       "  </thead>\n",
       "  <tbody>\n",
       "    <tr>\n",
       "      <th>10983</th>\n",
       "      <td>NaN</td>\n",
       "      <td>NaN</td>\n",
       "    </tr>\n",
       "    <tr>\n",
       "      <th>11568</th>\n",
       "      <td>NaN</td>\n",
       "      <td>NaN</td>\n",
       "    </tr>\n",
       "    <tr>\n",
       "      <th>14814</th>\n",
       "      <td>NaN</td>\n",
       "      <td>NaN</td>\n",
       "    </tr>\n",
       "    <tr>\n",
       "      <th>16067</th>\n",
       "      <td>NaN</td>\n",
       "      <td>NaN</td>\n",
       "    </tr>\n",
       "    <tr>\n",
       "      <th>17179</th>\n",
       "      <td>NaN</td>\n",
       "      <td>NaN</td>\n",
       "    </tr>\n",
       "    <tr>\n",
       "      <th>...</th>\n",
       "      <td>...</td>\n",
       "      <td>...</td>\n",
       "    </tr>\n",
       "    <tr>\n",
       "      <th>226208</th>\n",
       "      <td>NaN</td>\n",
       "      <td>NaN</td>\n",
       "    </tr>\n",
       "    <tr>\n",
       "      <th>230020</th>\n",
       "      <td>NaN</td>\n",
       "      <td>NaN</td>\n",
       "    </tr>\n",
       "    <tr>\n",
       "      <th>232901</th>\n",
       "      <td>NaN</td>\n",
       "      <td>NaN</td>\n",
       "    </tr>\n",
       "    <tr>\n",
       "      <th>234606</th>\n",
       "      <td>NaN</td>\n",
       "      <td>NaN</td>\n",
       "    </tr>\n",
       "    <tr>\n",
       "      <th>238139</th>\n",
       "      <td>NaN</td>\n",
       "      <td>NaN</td>\n",
       "    </tr>\n",
       "  </tbody>\n",
       "</table>\n",
       "<p>64 rows × 2 columns</p>\n",
       "</div>"
      ],
      "text/plain": [
       "        start_station_id  end_station_id\n",
       "10983                NaN             NaN\n",
       "11568                NaN             NaN\n",
       "14814                NaN             NaN\n",
       "16067                NaN             NaN\n",
       "17179                NaN             NaN\n",
       "...                  ...             ...\n",
       "226208               NaN             NaN\n",
       "230020               NaN             NaN\n",
       "232901               NaN             NaN\n",
       "234606               NaN             NaN\n",
       "238139               NaN             NaN\n",
       "\n",
       "[64 rows x 2 columns]"
      ]
     },
     "execution_count": 20,
     "metadata": {},
     "output_type": "execute_result"
    }
   ],
   "source": [
    "y_test"
   ]
  },
  {
   "cell_type": "code",
   "execution_count": 21,
   "metadata": {},
   "outputs": [
    {
     "data": {
      "text/html": [
       "<div>\n",
       "<style scoped>\n",
       "    .dataframe tbody tr th:only-of-type {\n",
       "        vertical-align: middle;\n",
       "    }\n",
       "\n",
       "    .dataframe tbody tr th {\n",
       "        vertical-align: top;\n",
       "    }\n",
       "\n",
       "    .dataframe thead th {\n",
       "        text-align: right;\n",
       "    }\n",
       "</style>\n",
       "<table border=\"1\" class=\"dataframe\">\n",
       "  <thead>\n",
       "    <tr style=\"text-align: right;\">\n",
       "      <th></th>\n",
       "      <th>duration_sec</th>\n",
       "      <th>start_time</th>\n",
       "      <th>end_time</th>\n",
       "      <th>start_station_latitude</th>\n",
       "      <th>start_station_longitude</th>\n",
       "      <th>end_station_latitude</th>\n",
       "      <th>end_station_longitude</th>\n",
       "      <th>bike_id</th>\n",
       "      <th>user_type</th>\n",
       "      <th>member_birth_year</th>\n",
       "      <th>member_gender</th>\n",
       "      <th>bike_share_for_all_trip</th>\n",
       "    </tr>\n",
       "  </thead>\n",
       "  <tbody>\n",
       "    <tr>\n",
       "      <th>0</th>\n",
       "      <td>50305</td>\n",
       "      <td>2019-04-30 22:33:55.155</td>\n",
       "      <td>2019-05-01 12:32:20.454</td>\n",
       "      <td>37.785434</td>\n",
       "      <td>-122.419622</td>\n",
       "      <td>37.788300</td>\n",
       "      <td>-122.408531</td>\n",
       "      <td>2749</td>\n",
       "      <td>1</td>\n",
       "      <td>1989.0</td>\n",
       "      <td>0</td>\n",
       "      <td>0</td>\n",
       "    </tr>\n",
       "    <tr>\n",
       "      <th>2</th>\n",
       "      <td>78072</td>\n",
       "      <td>2019-04-30 10:32:46.489</td>\n",
       "      <td>2019-05-01 08:13:58.975</td>\n",
       "      <td>37.776754</td>\n",
       "      <td>-122.399018</td>\n",
       "      <td>37.776754</td>\n",
       "      <td>-122.399018</td>\n",
       "      <td>258</td>\n",
       "      <td>1</td>\n",
       "      <td>1993.0</td>\n",
       "      <td>1</td>\n",
       "      <td>0</td>\n",
       "    </tr>\n",
       "    <tr>\n",
       "      <th>3</th>\n",
       "      <td>78969</td>\n",
       "      <td>2019-04-30 10:00:51.550</td>\n",
       "      <td>2019-05-01 07:57:01.262</td>\n",
       "      <td>37.776639</td>\n",
       "      <td>-122.395526</td>\n",
       "      <td>37.769218</td>\n",
       "      <td>-122.407646</td>\n",
       "      <td>1974</td>\n",
       "      <td>1</td>\n",
       "      <td>1972.0</td>\n",
       "      <td>1</td>\n",
       "      <td>0</td>\n",
       "    </tr>\n",
       "    <tr>\n",
       "      <th>4</th>\n",
       "      <td>1128</td>\n",
       "      <td>2019-04-30 23:59:04.739</td>\n",
       "      <td>2019-05-01 00:17:53.091</td>\n",
       "      <td>37.760447</td>\n",
       "      <td>-122.410807</td>\n",
       "      <td>37.783899</td>\n",
       "      <td>-122.408445</td>\n",
       "      <td>877</td>\n",
       "      <td>1</td>\n",
       "      <td>1973.0</td>\n",
       "      <td>1</td>\n",
       "      <td>0</td>\n",
       "    </tr>\n",
       "    <tr>\n",
       "      <th>5</th>\n",
       "      <td>1388</td>\n",
       "      <td>2019-04-30 23:53:05.982</td>\n",
       "      <td>2019-05-01 00:16:14.313</td>\n",
       "      <td>37.869360</td>\n",
       "      <td>-122.254337</td>\n",
       "      <td>37.867789</td>\n",
       "      <td>-122.265896</td>\n",
       "      <td>3234</td>\n",
       "      <td>0</td>\n",
       "      <td>1997.0</td>\n",
       "      <td>1</td>\n",
       "      <td>0</td>\n",
       "    </tr>\n",
       "    <tr>\n",
       "      <th>...</th>\n",
       "      <td>...</td>\n",
       "      <td>...</td>\n",
       "      <td>...</td>\n",
       "      <td>...</td>\n",
       "      <td>...</td>\n",
       "      <td>...</td>\n",
       "      <td>...</td>\n",
       "      <td>...</td>\n",
       "      <td>...</td>\n",
       "      <td>...</td>\n",
       "      <td>...</td>\n",
       "      <td>...</td>\n",
       "    </tr>\n",
       "    <tr>\n",
       "      <th>239106</th>\n",
       "      <td>184</td>\n",
       "      <td>2019-04-01 00:09:17.566</td>\n",
       "      <td>2019-04-01 00:12:22.517</td>\n",
       "      <td>37.755213</td>\n",
       "      <td>-122.420975</td>\n",
       "      <td>37.751819</td>\n",
       "      <td>-122.426614</td>\n",
       "      <td>6430</td>\n",
       "      <td>1</td>\n",
       "      <td>1976.0</td>\n",
       "      <td>1</td>\n",
       "      <td>0</td>\n",
       "    </tr>\n",
       "    <tr>\n",
       "      <th>239107</th>\n",
       "      <td>539</td>\n",
       "      <td>2019-04-01 00:03:02.573</td>\n",
       "      <td>2019-04-01 00:12:02.067</td>\n",
       "      <td>37.773717</td>\n",
       "      <td>-122.411647</td>\n",
       "      <td>37.773507</td>\n",
       "      <td>-122.416040</td>\n",
       "      <td>4972</td>\n",
       "      <td>1</td>\n",
       "      <td>1981.0</td>\n",
       "      <td>1</td>\n",
       "      <td>1</td>\n",
       "    </tr>\n",
       "    <tr>\n",
       "      <th>239108</th>\n",
       "      <td>292</td>\n",
       "      <td>2019-04-01 00:06:04.237</td>\n",
       "      <td>2019-04-01 00:10:56.985</td>\n",
       "      <td>37.869360</td>\n",
       "      <td>-122.254337</td>\n",
       "      <td>37.862320</td>\n",
       "      <td>-122.258801</td>\n",
       "      <td>3415</td>\n",
       "      <td>1</td>\n",
       "      <td>1997.0</td>\n",
       "      <td>1</td>\n",
       "      <td>1</td>\n",
       "    </tr>\n",
       "    <tr>\n",
       "      <th>239109</th>\n",
       "      <td>471</td>\n",
       "      <td>2019-04-01 00:01:38.411</td>\n",
       "      <td>2019-04-01 00:09:29.965</td>\n",
       "      <td>37.787327</td>\n",
       "      <td>-122.413278</td>\n",
       "      <td>37.778768</td>\n",
       "      <td>-122.415929</td>\n",
       "      <td>5018</td>\n",
       "      <td>1</td>\n",
       "      <td>1996.0</td>\n",
       "      <td>0</td>\n",
       "      <td>1</td>\n",
       "    </tr>\n",
       "    <tr>\n",
       "      <th>239110</th>\n",
       "      <td>356</td>\n",
       "      <td>2019-04-01 00:00:28.729</td>\n",
       "      <td>2019-04-01 00:06:25.065</td>\n",
       "      <td>37.795001</td>\n",
       "      <td>-122.399970</td>\n",
       "      <td>37.802746</td>\n",
       "      <td>-122.413579</td>\n",
       "      <td>5956</td>\n",
       "      <td>1</td>\n",
       "      <td>1970.0</td>\n",
       "      <td>1</td>\n",
       "      <td>0</td>\n",
       "    </tr>\n",
       "  </tbody>\n",
       "</table>\n",
       "<p>227848 rows × 12 columns</p>\n",
       "</div>"
      ],
      "text/plain": [
       "        duration_sec              start_time                end_time  \\\n",
       "0              50305 2019-04-30 22:33:55.155 2019-05-01 12:32:20.454   \n",
       "2              78072 2019-04-30 10:32:46.489 2019-05-01 08:13:58.975   \n",
       "3              78969 2019-04-30 10:00:51.550 2019-05-01 07:57:01.262   \n",
       "4               1128 2019-04-30 23:59:04.739 2019-05-01 00:17:53.091   \n",
       "5               1388 2019-04-30 23:53:05.982 2019-05-01 00:16:14.313   \n",
       "...              ...                     ...                     ...   \n",
       "239106           184 2019-04-01 00:09:17.566 2019-04-01 00:12:22.517   \n",
       "239107           539 2019-04-01 00:03:02.573 2019-04-01 00:12:02.067   \n",
       "239108           292 2019-04-01 00:06:04.237 2019-04-01 00:10:56.985   \n",
       "239109           471 2019-04-01 00:01:38.411 2019-04-01 00:09:29.965   \n",
       "239110           356 2019-04-01 00:00:28.729 2019-04-01 00:06:25.065   \n",
       "\n",
       "        start_station_latitude  start_station_longitude  end_station_latitude  \\\n",
       "0                    37.785434              -122.419622             37.788300   \n",
       "2                    37.776754              -122.399018             37.776754   \n",
       "3                    37.776639              -122.395526             37.769218   \n",
       "4                    37.760447              -122.410807             37.783899   \n",
       "5                    37.869360              -122.254337             37.867789   \n",
       "...                        ...                      ...                   ...   \n",
       "239106               37.755213              -122.420975             37.751819   \n",
       "239107               37.773717              -122.411647             37.773507   \n",
       "239108               37.869360              -122.254337             37.862320   \n",
       "239109               37.787327              -122.413278             37.778768   \n",
       "239110               37.795001              -122.399970             37.802746   \n",
       "\n",
       "        end_station_longitude  bike_id  user_type  member_birth_year  \\\n",
       "0                 -122.408531     2749          1             1989.0   \n",
       "2                 -122.399018      258          1             1993.0   \n",
       "3                 -122.407646     1974          1             1972.0   \n",
       "4                 -122.408445      877          1             1973.0   \n",
       "5                 -122.265896     3234          0             1997.0   \n",
       "...                       ...      ...        ...                ...   \n",
       "239106            -122.426614     6430          1             1976.0   \n",
       "239107            -122.416040     4972          1             1981.0   \n",
       "239108            -122.258801     3415          1             1997.0   \n",
       "239109            -122.415929     5018          1             1996.0   \n",
       "239110            -122.413579     5956          1             1970.0   \n",
       "\n",
       "        member_gender  bike_share_for_all_trip  \n",
       "0                   0                        0  \n",
       "2                   1                        0  \n",
       "3                   1                        0  \n",
       "4                   1                        0  \n",
       "5                   1                        0  \n",
       "...               ...                      ...  \n",
       "239106              1                        0  \n",
       "239107              1                        1  \n",
       "239108              1                        1  \n",
       "239109              0                        1  \n",
       "239110              1                        0  \n",
       "\n",
       "[227848 rows x 12 columns]"
      ]
     },
     "execution_count": 21,
     "metadata": {},
     "output_type": "execute_result"
    }
   ],
   "source": [
    "x_train"
   ]
  },
  {
   "cell_type": "code",
   "execution_count": 22,
   "metadata": {},
   "outputs": [
    {
     "data": {
      "text/html": [
       "<div>\n",
       "<style scoped>\n",
       "    .dataframe tbody tr th:only-of-type {\n",
       "        vertical-align: middle;\n",
       "    }\n",
       "\n",
       "    .dataframe tbody tr th {\n",
       "        vertical-align: top;\n",
       "    }\n",
       "\n",
       "    .dataframe thead th {\n",
       "        text-align: right;\n",
       "    }\n",
       "</style>\n",
       "<table border=\"1\" class=\"dataframe\">\n",
       "  <thead>\n",
       "    <tr style=\"text-align: right;\">\n",
       "      <th></th>\n",
       "      <th>duration_sec</th>\n",
       "      <th>start_time</th>\n",
       "      <th>end_time</th>\n",
       "      <th>start_station_latitude</th>\n",
       "      <th>start_station_longitude</th>\n",
       "      <th>end_station_latitude</th>\n",
       "      <th>end_station_longitude</th>\n",
       "      <th>bike_id</th>\n",
       "      <th>user_type</th>\n",
       "      <th>member_birth_year</th>\n",
       "      <th>member_gender</th>\n",
       "      <th>bike_share_for_all_trip</th>\n",
       "    </tr>\n",
       "  </thead>\n",
       "  <tbody>\n",
       "    <tr>\n",
       "      <th>10983</th>\n",
       "      <td>1131</td>\n",
       "      <td>2019-04-29 15:30:48.389</td>\n",
       "      <td>2019-04-29 15:49:39.480</td>\n",
       "      <td>37.41</td>\n",
       "      <td>-121.95</td>\n",
       "      <td>37.42</td>\n",
       "      <td>-121.96</td>\n",
       "      <td>4106</td>\n",
       "      <td>0</td>\n",
       "      <td>1979.0</td>\n",
       "      <td>0</td>\n",
       "      <td>0</td>\n",
       "    </tr>\n",
       "    <tr>\n",
       "      <th>11568</th>\n",
       "      <td>268</td>\n",
       "      <td>2019-04-29 13:12:08.928</td>\n",
       "      <td>2019-04-29 13:16:37.874</td>\n",
       "      <td>37.41</td>\n",
       "      <td>-121.94</td>\n",
       "      <td>37.41</td>\n",
       "      <td>-121.94</td>\n",
       "      <td>4106</td>\n",
       "      <td>0</td>\n",
       "      <td>1991.0</td>\n",
       "      <td>1</td>\n",
       "      <td>0</td>\n",
       "    </tr>\n",
       "    <tr>\n",
       "      <th>14814</th>\n",
       "      <td>669</td>\n",
       "      <td>2019-04-28 23:02:16.286</td>\n",
       "      <td>2019-04-28 23:13:25.667</td>\n",
       "      <td>37.40</td>\n",
       "      <td>-121.95</td>\n",
       "      <td>37.40</td>\n",
       "      <td>-121.94</td>\n",
       "      <td>4285</td>\n",
       "      <td>0</td>\n",
       "      <td>1989.0</td>\n",
       "      <td>0</td>\n",
       "      <td>0</td>\n",
       "    </tr>\n",
       "    <tr>\n",
       "      <th>16067</th>\n",
       "      <td>94</td>\n",
       "      <td>2019-04-28 16:30:12.368</td>\n",
       "      <td>2019-04-28 16:31:46.866</td>\n",
       "      <td>37.40</td>\n",
       "      <td>-121.95</td>\n",
       "      <td>37.40</td>\n",
       "      <td>-121.95</td>\n",
       "      <td>4285</td>\n",
       "      <td>0</td>\n",
       "      <td>1986.0</td>\n",
       "      <td>1</td>\n",
       "      <td>0</td>\n",
       "    </tr>\n",
       "    <tr>\n",
       "      <th>17179</th>\n",
       "      <td>2389</td>\n",
       "      <td>2019-04-28 12:24:07.683</td>\n",
       "      <td>2019-04-28 13:03:57.471</td>\n",
       "      <td>37.40</td>\n",
       "      <td>-121.94</td>\n",
       "      <td>37.40</td>\n",
       "      <td>-121.94</td>\n",
       "      <td>4244</td>\n",
       "      <td>0</td>\n",
       "      <td>1966.0</td>\n",
       "      <td>0</td>\n",
       "      <td>0</td>\n",
       "    </tr>\n",
       "    <tr>\n",
       "      <th>...</th>\n",
       "      <td>...</td>\n",
       "      <td>...</td>\n",
       "      <td>...</td>\n",
       "      <td>...</td>\n",
       "      <td>...</td>\n",
       "      <td>...</td>\n",
       "      <td>...</td>\n",
       "      <td>...</td>\n",
       "      <td>...</td>\n",
       "      <td>...</td>\n",
       "      <td>...</td>\n",
       "      <td>...</td>\n",
       "    </tr>\n",
       "    <tr>\n",
       "      <th>226208</th>\n",
       "      <td>681</td>\n",
       "      <td>2019-04-02 12:27:15.531</td>\n",
       "      <td>2019-04-02 12:38:36.932</td>\n",
       "      <td>37.39</td>\n",
       "      <td>-121.93</td>\n",
       "      <td>37.40</td>\n",
       "      <td>-121.93</td>\n",
       "      <td>4211</td>\n",
       "      <td>1</td>\n",
       "      <td>1986.0</td>\n",
       "      <td>1</td>\n",
       "      <td>0</td>\n",
       "    </tr>\n",
       "    <tr>\n",
       "      <th>230020</th>\n",
       "      <td>4803</td>\n",
       "      <td>2019-04-01 19:03:07.473</td>\n",
       "      <td>2019-04-01 20:23:10.731</td>\n",
       "      <td>37.40</td>\n",
       "      <td>-121.93</td>\n",
       "      <td>37.40</td>\n",
       "      <td>-121.94</td>\n",
       "      <td>4270</td>\n",
       "      <td>0</td>\n",
       "      <td>1995.0</td>\n",
       "      <td>1</td>\n",
       "      <td>0</td>\n",
       "    </tr>\n",
       "    <tr>\n",
       "      <th>232901</th>\n",
       "      <td>13460</td>\n",
       "      <td>2019-04-01 13:42:15.073</td>\n",
       "      <td>2019-04-01 17:26:35.895</td>\n",
       "      <td>37.41</td>\n",
       "      <td>-121.95</td>\n",
       "      <td>37.40</td>\n",
       "      <td>-121.94</td>\n",
       "      <td>4098</td>\n",
       "      <td>0</td>\n",
       "      <td>1991.0</td>\n",
       "      <td>1</td>\n",
       "      <td>0</td>\n",
       "    </tr>\n",
       "    <tr>\n",
       "      <th>234606</th>\n",
       "      <td>229</td>\n",
       "      <td>2019-04-01 13:17:14.567</td>\n",
       "      <td>2019-04-01 13:21:03.941</td>\n",
       "      <td>37.41</td>\n",
       "      <td>-121.94</td>\n",
       "      <td>37.41</td>\n",
       "      <td>-121.94</td>\n",
       "      <td>4098</td>\n",
       "      <td>0</td>\n",
       "      <td>1991.0</td>\n",
       "      <td>1</td>\n",
       "      <td>0</td>\n",
       "    </tr>\n",
       "    <tr>\n",
       "      <th>238139</th>\n",
       "      <td>647</td>\n",
       "      <td>2019-04-01 07:50:49.536</td>\n",
       "      <td>2019-04-01 08:01:37.242</td>\n",
       "      <td>37.40</td>\n",
       "      <td>-121.93</td>\n",
       "      <td>37.39</td>\n",
       "      <td>-121.93</td>\n",
       "      <td>4211</td>\n",
       "      <td>1</td>\n",
       "      <td>1983.0</td>\n",
       "      <td>1</td>\n",
       "      <td>0</td>\n",
       "    </tr>\n",
       "  </tbody>\n",
       "</table>\n",
       "<p>64 rows × 12 columns</p>\n",
       "</div>"
      ],
      "text/plain": [
       "        duration_sec              start_time                end_time  \\\n",
       "10983           1131 2019-04-29 15:30:48.389 2019-04-29 15:49:39.480   \n",
       "11568            268 2019-04-29 13:12:08.928 2019-04-29 13:16:37.874   \n",
       "14814            669 2019-04-28 23:02:16.286 2019-04-28 23:13:25.667   \n",
       "16067             94 2019-04-28 16:30:12.368 2019-04-28 16:31:46.866   \n",
       "17179           2389 2019-04-28 12:24:07.683 2019-04-28 13:03:57.471   \n",
       "...              ...                     ...                     ...   \n",
       "226208           681 2019-04-02 12:27:15.531 2019-04-02 12:38:36.932   \n",
       "230020          4803 2019-04-01 19:03:07.473 2019-04-01 20:23:10.731   \n",
       "232901         13460 2019-04-01 13:42:15.073 2019-04-01 17:26:35.895   \n",
       "234606           229 2019-04-01 13:17:14.567 2019-04-01 13:21:03.941   \n",
       "238139           647 2019-04-01 07:50:49.536 2019-04-01 08:01:37.242   \n",
       "\n",
       "        start_station_latitude  start_station_longitude  end_station_latitude  \\\n",
       "10983                    37.41                  -121.95                 37.42   \n",
       "11568                    37.41                  -121.94                 37.41   \n",
       "14814                    37.40                  -121.95                 37.40   \n",
       "16067                    37.40                  -121.95                 37.40   \n",
       "17179                    37.40                  -121.94                 37.40   \n",
       "...                        ...                      ...                   ...   \n",
       "226208                   37.39                  -121.93                 37.40   \n",
       "230020                   37.40                  -121.93                 37.40   \n",
       "232901                   37.41                  -121.95                 37.40   \n",
       "234606                   37.41                  -121.94                 37.41   \n",
       "238139                   37.40                  -121.93                 37.39   \n",
       "\n",
       "        end_station_longitude  bike_id  user_type  member_birth_year  \\\n",
       "10983                 -121.96     4106          0             1979.0   \n",
       "11568                 -121.94     4106          0             1991.0   \n",
       "14814                 -121.94     4285          0             1989.0   \n",
       "16067                 -121.95     4285          0             1986.0   \n",
       "17179                 -121.94     4244          0             1966.0   \n",
       "...                       ...      ...        ...                ...   \n",
       "226208                -121.93     4211          1             1986.0   \n",
       "230020                -121.94     4270          0             1995.0   \n",
       "232901                -121.94     4098          0             1991.0   \n",
       "234606                -121.94     4098          0             1991.0   \n",
       "238139                -121.93     4211          1             1983.0   \n",
       "\n",
       "        member_gender  bike_share_for_all_trip  \n",
       "10983               0                        0  \n",
       "11568               1                        0  \n",
       "14814               0                        0  \n",
       "16067               1                        0  \n",
       "17179               0                        0  \n",
       "...               ...                      ...  \n",
       "226208              1                        0  \n",
       "230020              1                        0  \n",
       "232901              1                        0  \n",
       "234606              1                        0  \n",
       "238139              1                        0  \n",
       "\n",
       "[64 rows x 12 columns]"
      ]
     },
     "execution_count": 22,
     "metadata": {},
     "output_type": "execute_result"
    }
   ],
   "source": [
    "x_test"
   ]
  },
  {
   "cell_type": "code",
   "execution_count": 23,
   "metadata": {},
   "outputs": [
    {
     "name": "stdout",
     "output_type": "stream",
     "text": [
      "<class 'pandas.core.frame.DataFrame'>\n",
      "Index: 227912 entries, 0 to 239110\n",
      "Data columns (total 12 columns):\n",
      " #   Column                   Non-Null Count   Dtype         \n",
      "---  ------                   --------------   -----         \n",
      " 0   duration_sec             227912 non-null  int64         \n",
      " 1   start_time               227912 non-null  datetime64[ns]\n",
      " 2   end_time                 227912 non-null  datetime64[ns]\n",
      " 3   start_station_latitude   227912 non-null  float64       \n",
      " 4   start_station_longitude  227912 non-null  float64       \n",
      " 5   end_station_latitude     227912 non-null  float64       \n",
      " 6   end_station_longitude    227912 non-null  float64       \n",
      " 7   bike_id                  227912 non-null  int64         \n",
      " 8   user_type                227912 non-null  int64         \n",
      " 9   member_birth_year        227912 non-null  float64       \n",
      " 10  member_gender            227912 non-null  int64         \n",
      " 11  bike_share_for_all_trip  227912 non-null  int64         \n",
      "dtypes: datetime64[ns](2), float64(5), int64(5)\n",
      "memory usage: 30.7 MB\n"
     ]
    }
   ],
   "source": [
    "x.info()"
   ]
  },
  {
   "cell_type": "code",
   "execution_count": null,
   "metadata": {},
   "outputs": [],
   "source": []
  },
  {
   "cell_type": "code",
   "execution_count": 24,
   "metadata": {},
   "outputs": [],
   "source": [
    "x_train = x_train.select_dtypes(include=['number']).fillna(0)\n",
    "x_test = x_test.select_dtypes(include=['number']).fillna(0)"
   ]
  },
  {
   "cell_type": "code",
   "execution_count": 25,
   "metadata": {},
   "outputs": [
    {
     "name": "stderr",
     "output_type": "stream",
     "text": [
      "d:\\Anconda\\Lib\\site-packages\\sklearn\\base.py:486: UserWarning: X has feature names, but GaussianNB was fitted without feature names\n",
      "  warnings.warn(\n",
      "d:\\Anconda\\Lib\\site-packages\\sklearn\\base.py:486: UserWarning: X has feature names, but GaussianNB was fitted without feature names\n",
      "  warnings.warn(\n"
     ]
    }
   ],
   "source": [
    "from skmultilearn.problem_transform import BinaryRelevance\n",
    "from sklearn.naive_bayes import GaussianNB\n",
    "from scipy.sparse import csr_matrix\n",
    "\n",
    "# Convert y_train and y_test to sparse matrices\n",
    "y_train_sparse = csr_matrix(y_train.values)\n",
    "y_test_sparse = csr_matrix(y_test.values)\n",
    "\n",
    "# Initialize the Binary Relevance model\n",
    "br_model = BinaryRelevance(classifier=GaussianNB())\n",
    "\n",
    "# Fit the model\n",
    "br_model.fit(x_train, y_train_sparse)\n",
    "\n",
    "# Predict\n",
    "y_pred_sparse = br_model.predict(x_test)\n",
    "\n",
    "# Convert predictions back to dense format\n",
    "y_pred = y_pred_sparse.toarray()\n",
    "\n",
    "\n"
   ]
  },
  {
   "cell_type": "code",
   "execution_count": 26,
   "metadata": {},
   "outputs": [
    {
     "data": {
      "text/plain": [
       "array([[397., 395.],\n",
       "       [395., 395.],\n",
       "       [396., 395.],\n",
       "       [395., 395.],\n",
       "       [391., 407.],\n",
       "       [287., 395.],\n",
       "       [395., 395.],\n",
       "       [396., 395.],\n",
       "       [287., 395.],\n",
       "       [287., 395.],\n",
       "       [304., 313.],\n",
       "       [396., 395.],\n",
       "       [287., 395.],\n",
       "       [395., 395.],\n",
       "       [395., 395.],\n",
       "       [395., 395.],\n",
       "       [312., 312.],\n",
       "       [395., 395.],\n",
       "       [395., 395.],\n",
       "       [395., 395.],\n",
       "       [396., 395.],\n",
       "       [395., 395.],\n",
       "       [395., 395.],\n",
       "       [389., 288.],\n",
       "       [395., 395.],\n",
       "       [395., 395.],\n",
       "       [395., 395.],\n",
       "       [395., 395.],\n",
       "       [395., 395.],\n",
       "       [395., 395.],\n",
       "       [395., 395.],\n",
       "       [395., 395.],\n",
       "       [396., 395.],\n",
       "       [304., 416.],\n",
       "       [395., 395.],\n",
       "       [391., 407.],\n",
       "       [395., 395.],\n",
       "       [395., 395.],\n",
       "       [312., 312.],\n",
       "       [395., 395.],\n",
       "       [395., 395.],\n",
       "       [397., 395.],\n",
       "       [395., 395.],\n",
       "       [395., 395.],\n",
       "       [395., 395.],\n",
       "       [312., 312.],\n",
       "       [311., 401.],\n",
       "       [312., 312.],\n",
       "       [395., 395.],\n",
       "       [312., 312.],\n",
       "       [312., 312.],\n",
       "       [296., 296.],\n",
       "       [395., 395.],\n",
       "       [308., 283.],\n",
       "       [395., 395.],\n",
       "       [395., 395.],\n",
       "       [395., 395.],\n",
       "       [395., 395.],\n",
       "       [391., 395.],\n",
       "       [312., 312.],\n",
       "       [395., 416.],\n",
       "       [304., 378.],\n",
       "       [395., 395.],\n",
       "       [312., 312.]])"
      ]
     },
     "execution_count": 26,
     "metadata": {},
     "output_type": "execute_result"
    }
   ],
   "source": [
    "y_pred"
   ]
  },
  {
   "cell_type": "code",
   "execution_count": 27,
   "metadata": {},
   "outputs": [
    {
     "name": "stderr",
     "output_type": "stream",
     "text": [
      "C:\\Users\\dell\\AppData\\Local\\Temp\\ipykernel_10956\\3647824323.py:1: SettingWithCopyWarning: \n",
      "A value is trying to be set on a copy of a slice from a DataFrame.\n",
      "Try using .loc[row_indexer,col_indexer] = value instead\n",
      "\n",
      "See the caveats in the documentation: https://pandas.pydata.org/pandas-docs/stable/user_guide/indexing.html#returning-a-view-versus-a-copy\n",
      "  y_test['start_station_id'] = y_pred[:, 0]\n",
      "C:\\Users\\dell\\AppData\\Local\\Temp\\ipykernel_10956\\3647824323.py:2: SettingWithCopyWarning: \n",
      "A value is trying to be set on a copy of a slice from a DataFrame.\n",
      "Try using .loc[row_indexer,col_indexer] = value instead\n",
      "\n",
      "See the caveats in the documentation: https://pandas.pydata.org/pandas-docs/stable/user_guide/indexing.html#returning-a-view-versus-a-copy\n",
      "  y_test['end_station_id'] = y_pred[:, 1]\n"
     ]
    }
   ],
   "source": [
    "y_test['start_station_id'] = y_pred[:, 0]\n",
    "y_test['end_station_id'] = y_pred[:, 1]"
   ]
  },
  {
   "cell_type": "code",
   "execution_count": 28,
   "metadata": {},
   "outputs": [
    {
     "data": {
      "text/html": [
       "<div>\n",
       "<style scoped>\n",
       "    .dataframe tbody tr th:only-of-type {\n",
       "        vertical-align: middle;\n",
       "    }\n",
       "\n",
       "    .dataframe tbody tr th {\n",
       "        vertical-align: top;\n",
       "    }\n",
       "\n",
       "    .dataframe thead th {\n",
       "        text-align: right;\n",
       "    }\n",
       "</style>\n",
       "<table border=\"1\" class=\"dataframe\">\n",
       "  <thead>\n",
       "    <tr style=\"text-align: right;\">\n",
       "      <th></th>\n",
       "      <th>start_station_id</th>\n",
       "      <th>end_station_id</th>\n",
       "    </tr>\n",
       "  </thead>\n",
       "  <tbody>\n",
       "    <tr>\n",
       "      <th>10983</th>\n",
       "      <td>397.0</td>\n",
       "      <td>395.0</td>\n",
       "    </tr>\n",
       "    <tr>\n",
       "      <th>11568</th>\n",
       "      <td>395.0</td>\n",
       "      <td>395.0</td>\n",
       "    </tr>\n",
       "    <tr>\n",
       "      <th>14814</th>\n",
       "      <td>396.0</td>\n",
       "      <td>395.0</td>\n",
       "    </tr>\n",
       "    <tr>\n",
       "      <th>16067</th>\n",
       "      <td>395.0</td>\n",
       "      <td>395.0</td>\n",
       "    </tr>\n",
       "    <tr>\n",
       "      <th>17179</th>\n",
       "      <td>391.0</td>\n",
       "      <td>407.0</td>\n",
       "    </tr>\n",
       "    <tr>\n",
       "      <th>...</th>\n",
       "      <td>...</td>\n",
       "      <td>...</td>\n",
       "    </tr>\n",
       "    <tr>\n",
       "      <th>226208</th>\n",
       "      <td>312.0</td>\n",
       "      <td>312.0</td>\n",
       "    </tr>\n",
       "    <tr>\n",
       "      <th>230020</th>\n",
       "      <td>395.0</td>\n",
       "      <td>416.0</td>\n",
       "    </tr>\n",
       "    <tr>\n",
       "      <th>232901</th>\n",
       "      <td>304.0</td>\n",
       "      <td>378.0</td>\n",
       "    </tr>\n",
       "    <tr>\n",
       "      <th>234606</th>\n",
       "      <td>395.0</td>\n",
       "      <td>395.0</td>\n",
       "    </tr>\n",
       "    <tr>\n",
       "      <th>238139</th>\n",
       "      <td>312.0</td>\n",
       "      <td>312.0</td>\n",
       "    </tr>\n",
       "  </tbody>\n",
       "</table>\n",
       "<p>64 rows × 2 columns</p>\n",
       "</div>"
      ],
      "text/plain": [
       "        start_station_id  end_station_id\n",
       "10983              397.0           395.0\n",
       "11568              395.0           395.0\n",
       "14814              396.0           395.0\n",
       "16067              395.0           395.0\n",
       "17179              391.0           407.0\n",
       "...                  ...             ...\n",
       "226208             312.0           312.0\n",
       "230020             395.0           416.0\n",
       "232901             304.0           378.0\n",
       "234606             395.0           395.0\n",
       "238139             312.0           312.0\n",
       "\n",
       "[64 rows x 2 columns]"
      ]
     },
     "execution_count": 28,
     "metadata": {},
     "output_type": "execute_result"
    }
   ],
   "source": [
    "y_test"
   ]
  },
  {
   "cell_type": "code",
   "execution_count": 29,
   "metadata": {},
   "outputs": [],
   "source": [
    "df.loc[y_test.index, ['start_station_id','end_station_id']] = y_test[['start_station_id','end_station_id']]"
   ]
  },
  {
   "cell_type": "code",
   "execution_count": 30,
   "metadata": {},
   "outputs": [
    {
     "data": {
      "text/plain": [
       "duration_sec                   0\n",
       "start_time                     0\n",
       "end_time                       0\n",
       "start_station_id               0\n",
       "start_station_name            64\n",
       "start_station_latitude         0\n",
       "start_station_longitude        0\n",
       "end_station_id                 0\n",
       "end_station_name              64\n",
       "end_station_latitude           0\n",
       "end_station_longitude          0\n",
       "bike_id                        0\n",
       "user_type                      0\n",
       "member_birth_year          11199\n",
       "member_gender              11199\n",
       "bike_share_for_all_trip        0\n",
       "dtype: int64"
      ]
     },
     "execution_count": 30,
     "metadata": {},
     "output_type": "execute_result"
    }
   ],
   "source": [
    "df.isna().sum()"
   ]
  },
  {
   "cell_type": "code",
   "execution_count": 31,
   "metadata": {},
   "outputs": [],
   "source": [
    "df['start_station_name'] = df.groupby('start_station_id')['start_station_name'].transform(\n",
    "    lambda x: x.ffill().bfill()\n",
    ")\n",
    "\n",
    "\n",
    "\n",
    "df['end_station_name'] = df.groupby('end_station_id')['end_station_name'].transform(\n",
    "    lambda x: x.ffill().bfill()\n",
    ")"
   ]
  },
  {
   "cell_type": "code",
   "execution_count": 32,
   "metadata": {},
   "outputs": [
    {
     "data": {
      "text/plain": [
       "duration_sec                   0\n",
       "start_time                     0\n",
       "end_time                       0\n",
       "start_station_id               0\n",
       "start_station_name             0\n",
       "start_station_latitude         0\n",
       "start_station_longitude        0\n",
       "end_station_id                 0\n",
       "end_station_name               0\n",
       "end_station_latitude           0\n",
       "end_station_longitude          0\n",
       "bike_id                        0\n",
       "user_type                      0\n",
       "member_birth_year          11199\n",
       "member_gender              11199\n",
       "bike_share_for_all_trip        0\n",
       "dtype: int64"
      ]
     },
     "execution_count": 32,
     "metadata": {},
     "output_type": "execute_result"
    }
   ],
   "source": [
    "df.isna().sum()"
   ]
  },
  {
   "cell_type": "code",
   "execution_count": 33,
   "metadata": {},
   "outputs": [
    {
     "name": "stderr",
     "output_type": "stream",
     "text": [
      "C:\\Users\\dell\\AppData\\Local\\Temp\\ipykernel_10956\\1126352507.py:7: SettingWithCopyWarning: \n",
      "A value is trying to be set on a copy of a slice from a DataFrame.\n",
      "Try using .loc[row_indexer,col_indexer] = value instead\n",
      "\n",
      "See the caveats in the documentation: https://pandas.pydata.org/pandas-docs/stable/user_guide/indexing.html#returning-a-view-versus-a-copy\n",
      "  y['member_gender'] = y['member_gender'].apply(lambda x: 1 if x == 'Male' else (0 if x == 'Female' else None))\n"
     ]
    }
   ],
   "source": [
    "y=df[['member_gender','member_birth_year']]\n",
    "x=df.drop(['member_gender','member_birth_year'],axis=1)\n",
    "\n",
    "\n",
    "\n",
    "x['user_type'] = x['user_type'].apply(lambda x: 1 if x == 'Subscriber' else 0)\n",
    "y['member_gender'] = y['member_gender'].apply(lambda x: 1 if x == 'Male' else (0 if x == 'Female' else None))\n",
    "x['bike_share_for_all_trip'] = x['bike_share_for_all_trip'].apply(lambda x: 1 if x == 'Yes' else 0)\n",
    "\n",
    "\n",
    "\n",
    "y_test = y[y['member_gender'].isna()]\n",
    "y_train = y.dropna(subset=['member_gender'])\n",
    "x_train = x.loc[y_train.index]  \n",
    "x_test = x.loc[y_test.index]\n",
    "\n",
    "\n",
    "\n",
    "x_train = x_train.select_dtypes(include=['number']).fillna(0)\n",
    "x_test = x_test.select_dtypes(include=['number']).fillna(0)"
   ]
  },
  {
   "cell_type": "code",
   "execution_count": 34,
   "metadata": {},
   "outputs": [
    {
     "data": {
      "text/html": [
       "<div>\n",
       "<style scoped>\n",
       "    .dataframe tbody tr th:only-of-type {\n",
       "        vertical-align: middle;\n",
       "    }\n",
       "\n",
       "    .dataframe tbody tr th {\n",
       "        vertical-align: top;\n",
       "    }\n",
       "\n",
       "    .dataframe thead th {\n",
       "        text-align: right;\n",
       "    }\n",
       "</style>\n",
       "<table border=\"1\" class=\"dataframe\">\n",
       "  <thead>\n",
       "    <tr style=\"text-align: right;\">\n",
       "      <th></th>\n",
       "      <th>duration_sec</th>\n",
       "      <th>start_station_id</th>\n",
       "      <th>start_station_latitude</th>\n",
       "      <th>start_station_longitude</th>\n",
       "      <th>end_station_id</th>\n",
       "      <th>end_station_latitude</th>\n",
       "      <th>end_station_longitude</th>\n",
       "      <th>bike_id</th>\n",
       "      <th>user_type</th>\n",
       "      <th>bike_share_for_all_trip</th>\n",
       "    </tr>\n",
       "  </thead>\n",
       "  <tbody>\n",
       "    <tr>\n",
       "      <th>1</th>\n",
       "      <td>53725</td>\n",
       "      <td>246.0</td>\n",
       "      <td>37.869060</td>\n",
       "      <td>-122.270556</td>\n",
       "      <td>241.0</td>\n",
       "      <td>37.852477</td>\n",
       "      <td>-122.270213</td>\n",
       "      <td>2608</td>\n",
       "      <td>0</td>\n",
       "      <td>0</td>\n",
       "    </tr>\n",
       "    <tr>\n",
       "      <th>26</th>\n",
       "      <td>142</td>\n",
       "      <td>267.0</td>\n",
       "      <td>37.861804</td>\n",
       "      <td>-122.253569</td>\n",
       "      <td>253.0</td>\n",
       "      <td>37.866418</td>\n",
       "      <td>-122.253799</td>\n",
       "      <td>1378</td>\n",
       "      <td>1</td>\n",
       "      <td>1</td>\n",
       "    </tr>\n",
       "    <tr>\n",
       "      <th>42</th>\n",
       "      <td>123</td>\n",
       "      <td>253.0</td>\n",
       "      <td>37.866418</td>\n",
       "      <td>-122.253799</td>\n",
       "      <td>243.0</td>\n",
       "      <td>37.869360</td>\n",
       "      <td>-122.254337</td>\n",
       "      <td>3234</td>\n",
       "      <td>1</td>\n",
       "      <td>1</td>\n",
       "    </tr>\n",
       "    <tr>\n",
       "      <th>56</th>\n",
       "      <td>295</td>\n",
       "      <td>246.0</td>\n",
       "      <td>37.869060</td>\n",
       "      <td>-122.270556</td>\n",
       "      <td>266.0</td>\n",
       "      <td>37.862464</td>\n",
       "      <td>-122.264791</td>\n",
       "      <td>1363</td>\n",
       "      <td>1</td>\n",
       "      <td>0</td>\n",
       "    </tr>\n",
       "    <tr>\n",
       "      <th>60</th>\n",
       "      <td>1179</td>\n",
       "      <td>121.0</td>\n",
       "      <td>37.759210</td>\n",
       "      <td>-122.421339</td>\n",
       "      <td>44.0</td>\n",
       "      <td>37.781074</td>\n",
       "      <td>-122.411738</td>\n",
       "      <td>1851</td>\n",
       "      <td>0</td>\n",
       "      <td>0</td>\n",
       "    </tr>\n",
       "    <tr>\n",
       "      <th>...</th>\n",
       "      <td>...</td>\n",
       "      <td>...</td>\n",
       "      <td>...</td>\n",
       "      <td>...</td>\n",
       "      <td>...</td>\n",
       "      <td>...</td>\n",
       "      <td>...</td>\n",
       "      <td>...</td>\n",
       "      <td>...</td>\n",
       "      <td>...</td>\n",
       "    </tr>\n",
       "    <tr>\n",
       "      <th>238932</th>\n",
       "      <td>282</td>\n",
       "      <td>223.0</td>\n",
       "      <td>37.764765</td>\n",
       "      <td>-122.420091</td>\n",
       "      <td>100.0</td>\n",
       "      <td>37.767100</td>\n",
       "      <td>-122.410662</td>\n",
       "      <td>5249</td>\n",
       "      <td>1</td>\n",
       "      <td>0</td>\n",
       "    </tr>\n",
       "    <tr>\n",
       "      <th>239017</th>\n",
       "      <td>564</td>\n",
       "      <td>56.0</td>\n",
       "      <td>37.773414</td>\n",
       "      <td>-122.427317</td>\n",
       "      <td>20.0</td>\n",
       "      <td>37.791300</td>\n",
       "      <td>-122.399051</td>\n",
       "      <td>6878</td>\n",
       "      <td>0</td>\n",
       "      <td>0</td>\n",
       "    </tr>\n",
       "    <tr>\n",
       "      <th>239028</th>\n",
       "      <td>946</td>\n",
       "      <td>10.0</td>\n",
       "      <td>37.795393</td>\n",
       "      <td>-122.404770</td>\n",
       "      <td>368.0</td>\n",
       "      <td>37.785434</td>\n",
       "      <td>-122.419622</td>\n",
       "      <td>4944</td>\n",
       "      <td>1</td>\n",
       "      <td>0</td>\n",
       "    </tr>\n",
       "    <tr>\n",
       "      <th>239084</th>\n",
       "      <td>306</td>\n",
       "      <td>84.0</td>\n",
       "      <td>37.769200</td>\n",
       "      <td>-122.433812</td>\n",
       "      <td>71.0</td>\n",
       "      <td>37.773063</td>\n",
       "      <td>-122.439078</td>\n",
       "      <td>6258</td>\n",
       "      <td>0</td>\n",
       "      <td>0</td>\n",
       "    </tr>\n",
       "    <tr>\n",
       "      <th>239093</th>\n",
       "      <td>883</td>\n",
       "      <td>6.0</td>\n",
       "      <td>37.804770</td>\n",
       "      <td>-122.403234</td>\n",
       "      <td>37.0</td>\n",
       "      <td>37.785377</td>\n",
       "      <td>-122.396906</td>\n",
       "      <td>1836</td>\n",
       "      <td>0</td>\n",
       "      <td>0</td>\n",
       "    </tr>\n",
       "  </tbody>\n",
       "</table>\n",
       "<p>15473 rows × 10 columns</p>\n",
       "</div>"
      ],
      "text/plain": [
       "        duration_sec  start_station_id  start_station_latitude  \\\n",
       "1              53725             246.0               37.869060   \n",
       "26               142             267.0               37.861804   \n",
       "42               123             253.0               37.866418   \n",
       "56               295             246.0               37.869060   \n",
       "60              1179             121.0               37.759210   \n",
       "...              ...               ...                     ...   \n",
       "238932           282             223.0               37.764765   \n",
       "239017           564              56.0               37.773414   \n",
       "239028           946              10.0               37.795393   \n",
       "239084           306              84.0               37.769200   \n",
       "239093           883               6.0               37.804770   \n",
       "\n",
       "        start_station_longitude  end_station_id  end_station_latitude  \\\n",
       "1                   -122.270556           241.0             37.852477   \n",
       "26                  -122.253569           253.0             37.866418   \n",
       "42                  -122.253799           243.0             37.869360   \n",
       "56                  -122.270556           266.0             37.862464   \n",
       "60                  -122.421339            44.0             37.781074   \n",
       "...                         ...             ...                   ...   \n",
       "238932              -122.420091           100.0             37.767100   \n",
       "239017              -122.427317            20.0             37.791300   \n",
       "239028              -122.404770           368.0             37.785434   \n",
       "239084              -122.433812            71.0             37.773063   \n",
       "239093              -122.403234            37.0             37.785377   \n",
       "\n",
       "        end_station_longitude  bike_id  user_type  bike_share_for_all_trip  \n",
       "1                 -122.270213     2608          0                        0  \n",
       "26                -122.253799     1378          1                        1  \n",
       "42                -122.254337     3234          1                        1  \n",
       "56                -122.264791     1363          1                        0  \n",
       "60                -122.411738     1851          0                        0  \n",
       "...                       ...      ...        ...                      ...  \n",
       "238932            -122.410662     5249          1                        0  \n",
       "239017            -122.399051     6878          0                        0  \n",
       "239028            -122.419622     4944          1                        0  \n",
       "239084            -122.439078     6258          0                        0  \n",
       "239093            -122.396906     1836          0                        0  \n",
       "\n",
       "[15473 rows x 10 columns]"
      ]
     },
     "execution_count": 34,
     "metadata": {},
     "output_type": "execute_result"
    }
   ],
   "source": [
    "x_test"
   ]
  },
  {
   "cell_type": "code",
   "execution_count": 35,
   "metadata": {},
   "outputs": [
    {
     "name": "stderr",
     "output_type": "stream",
     "text": [
      "d:\\Anconda\\Lib\\site-packages\\sklearn\\base.py:486: UserWarning: X has feature names, but GaussianNB was fitted without feature names\n",
      "  warnings.warn(\n",
      "d:\\Anconda\\Lib\\site-packages\\sklearn\\base.py:486: UserWarning: X has feature names, but GaussianNB was fitted without feature names\n",
      "  warnings.warn(\n"
     ]
    }
   ],
   "source": [
    "from skmultilearn.problem_transform import BinaryRelevance\n",
    "from sklearn.naive_bayes import GaussianNB\n",
    "from scipy.sparse import csr_matrix\n",
    "\n",
    "# Convert y_train and y_test to sparse matrices\n",
    "y_train_sparse = csr_matrix(y_train.values)\n",
    "y_test_sparse = csr_matrix(y_test.values)\n",
    "\n",
    "# Initialize the Binary Relevance model\n",
    "br_model = BinaryRelevance(classifier=GaussianNB())\n",
    "\n",
    "# Fit the model\n",
    "br_model.fit(x_train, y_train_sparse)\n",
    "\n",
    "# Predict\n",
    "y_pred_sparse = br_model.predict(x_test)\n",
    "\n",
    "# Convert predictions back to dense format\n",
    "y_pred = y_pred_sparse.toarray()\n",
    "\n",
    "\n"
   ]
  },
  {
   "cell_type": "code",
   "execution_count": 36,
   "metadata": {},
   "outputs": [
    {
     "name": "stderr",
     "output_type": "stream",
     "text": [
      "C:\\Users\\dell\\AppData\\Local\\Temp\\ipykernel_10956\\1592149120.py:1: SettingWithCopyWarning: \n",
      "A value is trying to be set on a copy of a slice from a DataFrame.\n",
      "Try using .loc[row_indexer,col_indexer] = value instead\n",
      "\n",
      "See the caveats in the documentation: https://pandas.pydata.org/pandas-docs/stable/user_guide/indexing.html#returning-a-view-versus-a-copy\n",
      "  y_test['member_gender'] = y_pred[:, 0]\n",
      "C:\\Users\\dell\\AppData\\Local\\Temp\\ipykernel_10956\\1592149120.py:2: SettingWithCopyWarning: \n",
      "A value is trying to be set on a copy of a slice from a DataFrame.\n",
      "Try using .loc[row_indexer,col_indexer] = value instead\n",
      "\n",
      "See the caveats in the documentation: https://pandas.pydata.org/pandas-docs/stable/user_guide/indexing.html#returning-a-view-versus-a-copy\n",
      "  y_test['member_birth_year'] = y_pred[:, 1]\n"
     ]
    }
   ],
   "source": [
    "y_test['member_gender'] = y_pred[:, 0]\n",
    "y_test['member_birth_year'] = y_pred[:, 1]\n",
    "\n",
    "\n",
    "df.loc[y_test.index, ['member_gender','member_birth_year']] = y_test[['member_gender','member_birth_year']]"
   ]
  },
  {
   "cell_type": "code",
   "execution_count": 37,
   "metadata": {},
   "outputs": [
    {
     "data": {
      "text/plain": [
       "duration_sec               0\n",
       "start_time                 0\n",
       "end_time                   0\n",
       "start_station_id           0\n",
       "start_station_name         0\n",
       "start_station_latitude     0\n",
       "start_station_longitude    0\n",
       "end_station_id             0\n",
       "end_station_name           0\n",
       "end_station_latitude       0\n",
       "end_station_longitude      0\n",
       "bike_id                    0\n",
       "user_type                  0\n",
       "member_birth_year          0\n",
       "member_gender              0\n",
       "bike_share_for_all_trip    0\n",
       "dtype: int64"
      ]
     },
     "execution_count": 37,
     "metadata": {},
     "output_type": "execute_result"
    }
   ],
   "source": [
    "df.isna().sum()"
   ]
  },
  {
   "cell_type": "code",
   "execution_count": 38,
   "metadata": {},
   "outputs": [],
   "source": [
    "df['member_gender'] = df['member_gender'].apply(lambda x: 'Male' if x == 1 else 'Female')"
   ]
  },
  {
   "cell_type": "code",
   "execution_count": 39,
   "metadata": {},
   "outputs": [
    {
     "data": {
      "text/html": [
       "<div>\n",
       "<style scoped>\n",
       "    .dataframe tbody tr th:only-of-type {\n",
       "        vertical-align: middle;\n",
       "    }\n",
       "\n",
       "    .dataframe tbody tr th {\n",
       "        vertical-align: top;\n",
       "    }\n",
       "\n",
       "    .dataframe thead th {\n",
       "        text-align: right;\n",
       "    }\n",
       "</style>\n",
       "<table border=\"1\" class=\"dataframe\">\n",
       "  <thead>\n",
       "    <tr style=\"text-align: right;\">\n",
       "      <th></th>\n",
       "      <th>duration_sec</th>\n",
       "      <th>start_time</th>\n",
       "      <th>end_time</th>\n",
       "      <th>start_station_id</th>\n",
       "      <th>start_station_name</th>\n",
       "      <th>start_station_latitude</th>\n",
       "      <th>start_station_longitude</th>\n",
       "      <th>end_station_id</th>\n",
       "      <th>end_station_name</th>\n",
       "      <th>end_station_latitude</th>\n",
       "      <th>end_station_longitude</th>\n",
       "      <th>bike_id</th>\n",
       "      <th>user_type</th>\n",
       "      <th>member_birth_year</th>\n",
       "      <th>member_gender</th>\n",
       "      <th>bike_share_for_all_trip</th>\n",
       "    </tr>\n",
       "  </thead>\n",
       "  <tbody>\n",
       "    <tr>\n",
       "      <th>0</th>\n",
       "      <td>50305</td>\n",
       "      <td>2019-04-30 22:33:55.155</td>\n",
       "      <td>2019-05-01 12:32:20.454</td>\n",
       "      <td>368.0</td>\n",
       "      <td>Myrtle St at Polk St</td>\n",
       "      <td>37.785434</td>\n",
       "      <td>-122.419622</td>\n",
       "      <td>324.0</td>\n",
       "      <td>Union Square (Powell St at Post St)</td>\n",
       "      <td>37.788300</td>\n",
       "      <td>-122.408531</td>\n",
       "      <td>2749</td>\n",
       "      <td>Subscriber</td>\n",
       "      <td>1989.0</td>\n",
       "      <td>Female</td>\n",
       "      <td>No</td>\n",
       "    </tr>\n",
       "    <tr>\n",
       "      <th>1</th>\n",
       "      <td>53725</td>\n",
       "      <td>2019-04-30 20:43:41.632</td>\n",
       "      <td>2019-05-01 11:39:06.917</td>\n",
       "      <td>246.0</td>\n",
       "      <td>Berkeley Civic Center</td>\n",
       "      <td>37.869060</td>\n",
       "      <td>-122.270556</td>\n",
       "      <td>241.0</td>\n",
       "      <td>Ashby BART Station</td>\n",
       "      <td>37.852477</td>\n",
       "      <td>-122.270213</td>\n",
       "      <td>2608</td>\n",
       "      <td>Customer</td>\n",
       "      <td>1943.0</td>\n",
       "      <td>Female</td>\n",
       "      <td>No</td>\n",
       "    </tr>\n",
       "    <tr>\n",
       "      <th>2</th>\n",
       "      <td>78072</td>\n",
       "      <td>2019-04-30 10:32:46.489</td>\n",
       "      <td>2019-05-01 08:13:58.975</td>\n",
       "      <td>64.0</td>\n",
       "      <td>5th St at Brannan St</td>\n",
       "      <td>37.776754</td>\n",
       "      <td>-122.399018</td>\n",
       "      <td>64.0</td>\n",
       "      <td>5th St at Brannan St</td>\n",
       "      <td>37.776754</td>\n",
       "      <td>-122.399018</td>\n",
       "      <td>258</td>\n",
       "      <td>Subscriber</td>\n",
       "      <td>1993.0</td>\n",
       "      <td>Female</td>\n",
       "      <td>No</td>\n",
       "    </tr>\n",
       "    <tr>\n",
       "      <th>3</th>\n",
       "      <td>78969</td>\n",
       "      <td>2019-04-30 10:00:51.550</td>\n",
       "      <td>2019-05-01 07:57:01.262</td>\n",
       "      <td>67.0</td>\n",
       "      <td>San Francisco Caltrain Station 2  (Townsend St...</td>\n",
       "      <td>37.776639</td>\n",
       "      <td>-122.395526</td>\n",
       "      <td>89.0</td>\n",
       "      <td>Division St at Potrero Ave</td>\n",
       "      <td>37.769218</td>\n",
       "      <td>-122.407646</td>\n",
       "      <td>1974</td>\n",
       "      <td>Subscriber</td>\n",
       "      <td>1972.0</td>\n",
       "      <td>Female</td>\n",
       "      <td>No</td>\n",
       "    </tr>\n",
       "    <tr>\n",
       "      <th>4</th>\n",
       "      <td>1128</td>\n",
       "      <td>2019-04-30 23:59:04.739</td>\n",
       "      <td>2019-05-01 00:17:53.091</td>\n",
       "      <td>124.0</td>\n",
       "      <td>19th St at Florida St</td>\n",
       "      <td>37.760447</td>\n",
       "      <td>-122.410807</td>\n",
       "      <td>5.0</td>\n",
       "      <td>Powell St BART Station (Market St at 5th St)</td>\n",
       "      <td>37.783899</td>\n",
       "      <td>-122.408445</td>\n",
       "      <td>877</td>\n",
       "      <td>Subscriber</td>\n",
       "      <td>1973.0</td>\n",
       "      <td>Female</td>\n",
       "      <td>No</td>\n",
       "    </tr>\n",
       "    <tr>\n",
       "      <th>...</th>\n",
       "      <td>...</td>\n",
       "      <td>...</td>\n",
       "      <td>...</td>\n",
       "      <td>...</td>\n",
       "      <td>...</td>\n",
       "      <td>...</td>\n",
       "      <td>...</td>\n",
       "      <td>...</td>\n",
       "      <td>...</td>\n",
       "      <td>...</td>\n",
       "      <td>...</td>\n",
       "      <td>...</td>\n",
       "      <td>...</td>\n",
       "      <td>...</td>\n",
       "      <td>...</td>\n",
       "      <td>...</td>\n",
       "    </tr>\n",
       "    <tr>\n",
       "      <th>239106</th>\n",
       "      <td>184</td>\n",
       "      <td>2019-04-01 00:09:17.566</td>\n",
       "      <td>2019-04-01 00:12:22.517</td>\n",
       "      <td>133.0</td>\n",
       "      <td>Valencia St at 22nd St</td>\n",
       "      <td>37.755213</td>\n",
       "      <td>-122.420975</td>\n",
       "      <td>132.0</td>\n",
       "      <td>24th St at Chattanooga St</td>\n",
       "      <td>37.751819</td>\n",
       "      <td>-122.426614</td>\n",
       "      <td>6430</td>\n",
       "      <td>Subscriber</td>\n",
       "      <td>1976.0</td>\n",
       "      <td>Female</td>\n",
       "      <td>No</td>\n",
       "    </tr>\n",
       "    <tr>\n",
       "      <th>239107</th>\n",
       "      <td>539</td>\n",
       "      <td>2019-04-01 00:03:02.573</td>\n",
       "      <td>2019-04-01 00:12:02.067</td>\n",
       "      <td>78.0</td>\n",
       "      <td>Folsom St at 9th St</td>\n",
       "      <td>37.773717</td>\n",
       "      <td>-122.411647</td>\n",
       "      <td>77.0</td>\n",
       "      <td>11th St at Natoma St</td>\n",
       "      <td>37.773507</td>\n",
       "      <td>-122.416040</td>\n",
       "      <td>4972</td>\n",
       "      <td>Subscriber</td>\n",
       "      <td>1981.0</td>\n",
       "      <td>Female</td>\n",
       "      <td>Yes</td>\n",
       "    </tr>\n",
       "    <tr>\n",
       "      <th>239108</th>\n",
       "      <td>292</td>\n",
       "      <td>2019-04-01 00:06:04.237</td>\n",
       "      <td>2019-04-01 00:10:56.985</td>\n",
       "      <td>243.0</td>\n",
       "      <td>Bancroft Way at College Ave</td>\n",
       "      <td>37.869360</td>\n",
       "      <td>-122.254337</td>\n",
       "      <td>269.0</td>\n",
       "      <td>Telegraph Ave at Carleton St</td>\n",
       "      <td>37.862320</td>\n",
       "      <td>-122.258801</td>\n",
       "      <td>3415</td>\n",
       "      <td>Subscriber</td>\n",
       "      <td>1997.0</td>\n",
       "      <td>Female</td>\n",
       "      <td>Yes</td>\n",
       "    </tr>\n",
       "    <tr>\n",
       "      <th>239109</th>\n",
       "      <td>471</td>\n",
       "      <td>2019-04-01 00:01:38.411</td>\n",
       "      <td>2019-04-01 00:09:29.965</td>\n",
       "      <td>370.0</td>\n",
       "      <td>Jones St at Post St</td>\n",
       "      <td>37.787327</td>\n",
       "      <td>-122.413278</td>\n",
       "      <td>43.0</td>\n",
       "      <td>San Francisco Public Library (Grove St at Hyde...</td>\n",
       "      <td>37.778768</td>\n",
       "      <td>-122.415929</td>\n",
       "      <td>5018</td>\n",
       "      <td>Subscriber</td>\n",
       "      <td>1996.0</td>\n",
       "      <td>Female</td>\n",
       "      <td>Yes</td>\n",
       "    </tr>\n",
       "    <tr>\n",
       "      <th>239110</th>\n",
       "      <td>356</td>\n",
       "      <td>2019-04-01 00:00:28.729</td>\n",
       "      <td>2019-04-01 00:06:25.065</td>\n",
       "      <td>14.0</td>\n",
       "      <td>Clay St at Battery St</td>\n",
       "      <td>37.795001</td>\n",
       "      <td>-122.399970</td>\n",
       "      <td>371.0</td>\n",
       "      <td>Lombard St at Columbus Ave</td>\n",
       "      <td>37.802746</td>\n",
       "      <td>-122.413579</td>\n",
       "      <td>5956</td>\n",
       "      <td>Subscriber</td>\n",
       "      <td>1970.0</td>\n",
       "      <td>Female</td>\n",
       "      <td>No</td>\n",
       "    </tr>\n",
       "  </tbody>\n",
       "</table>\n",
       "<p>239111 rows × 16 columns</p>\n",
       "</div>"
      ],
      "text/plain": [
       "        duration_sec              start_time                end_time  \\\n",
       "0              50305 2019-04-30 22:33:55.155 2019-05-01 12:32:20.454   \n",
       "1              53725 2019-04-30 20:43:41.632 2019-05-01 11:39:06.917   \n",
       "2              78072 2019-04-30 10:32:46.489 2019-05-01 08:13:58.975   \n",
       "3              78969 2019-04-30 10:00:51.550 2019-05-01 07:57:01.262   \n",
       "4               1128 2019-04-30 23:59:04.739 2019-05-01 00:17:53.091   \n",
       "...              ...                     ...                     ...   \n",
       "239106           184 2019-04-01 00:09:17.566 2019-04-01 00:12:22.517   \n",
       "239107           539 2019-04-01 00:03:02.573 2019-04-01 00:12:02.067   \n",
       "239108           292 2019-04-01 00:06:04.237 2019-04-01 00:10:56.985   \n",
       "239109           471 2019-04-01 00:01:38.411 2019-04-01 00:09:29.965   \n",
       "239110           356 2019-04-01 00:00:28.729 2019-04-01 00:06:25.065   \n",
       "\n",
       "        start_station_id                                 start_station_name  \\\n",
       "0                  368.0                               Myrtle St at Polk St   \n",
       "1                  246.0                              Berkeley Civic Center   \n",
       "2                   64.0                               5th St at Brannan St   \n",
       "3                   67.0  San Francisco Caltrain Station 2  (Townsend St...   \n",
       "4                  124.0                              19th St at Florida St   \n",
       "...                  ...                                                ...   \n",
       "239106             133.0                             Valencia St at 22nd St   \n",
       "239107              78.0                                Folsom St at 9th St   \n",
       "239108             243.0                        Bancroft Way at College Ave   \n",
       "239109             370.0                                Jones St at Post St   \n",
       "239110              14.0                              Clay St at Battery St   \n",
       "\n",
       "        start_station_latitude  start_station_longitude  end_station_id  \\\n",
       "0                    37.785434              -122.419622           324.0   \n",
       "1                    37.869060              -122.270556           241.0   \n",
       "2                    37.776754              -122.399018            64.0   \n",
       "3                    37.776639              -122.395526            89.0   \n",
       "4                    37.760447              -122.410807             5.0   \n",
       "...                        ...                      ...             ...   \n",
       "239106               37.755213              -122.420975           132.0   \n",
       "239107               37.773717              -122.411647            77.0   \n",
       "239108               37.869360              -122.254337           269.0   \n",
       "239109               37.787327              -122.413278            43.0   \n",
       "239110               37.795001              -122.399970           371.0   \n",
       "\n",
       "                                         end_station_name  \\\n",
       "0                     Union Square (Powell St at Post St)   \n",
       "1                                      Ashby BART Station   \n",
       "2                                    5th St at Brannan St   \n",
       "3                              Division St at Potrero Ave   \n",
       "4            Powell St BART Station (Market St at 5th St)   \n",
       "...                                                   ...   \n",
       "239106                          24th St at Chattanooga St   \n",
       "239107                               11th St at Natoma St   \n",
       "239108                       Telegraph Ave at Carleton St   \n",
       "239109  San Francisco Public Library (Grove St at Hyde...   \n",
       "239110                         Lombard St at Columbus Ave   \n",
       "\n",
       "        end_station_latitude  end_station_longitude  bike_id   user_type  \\\n",
       "0                  37.788300            -122.408531     2749  Subscriber   \n",
       "1                  37.852477            -122.270213     2608    Customer   \n",
       "2                  37.776754            -122.399018      258  Subscriber   \n",
       "3                  37.769218            -122.407646     1974  Subscriber   \n",
       "4                  37.783899            -122.408445      877  Subscriber   \n",
       "...                      ...                    ...      ...         ...   \n",
       "239106             37.751819            -122.426614     6430  Subscriber   \n",
       "239107             37.773507            -122.416040     4972  Subscriber   \n",
       "239108             37.862320            -122.258801     3415  Subscriber   \n",
       "239109             37.778768            -122.415929     5018  Subscriber   \n",
       "239110             37.802746            -122.413579     5956  Subscriber   \n",
       "\n",
       "        member_birth_year member_gender bike_share_for_all_trip  \n",
       "0                  1989.0        Female                      No  \n",
       "1                  1943.0        Female                      No  \n",
       "2                  1993.0        Female                      No  \n",
       "3                  1972.0        Female                      No  \n",
       "4                  1973.0        Female                      No  \n",
       "...                   ...           ...                     ...  \n",
       "239106             1976.0        Female                      No  \n",
       "239107             1981.0        Female                     Yes  \n",
       "239108             1997.0        Female                     Yes  \n",
       "239109             1996.0        Female                     Yes  \n",
       "239110             1970.0        Female                      No  \n",
       "\n",
       "[239111 rows x 16 columns]"
      ]
     },
     "execution_count": 39,
     "metadata": {},
     "output_type": "execute_result"
    }
   ],
   "source": [
    "df"
   ]
  },
  {
   "cell_type": "markdown",
   "metadata": {},
   "source": [
    "# EDA"
   ]
  },
  {
   "cell_type": "markdown",
   "metadata": {},
   "source": [
    "##### there is relation between member_gender and duration of trip? -------> YES, if the trip take more than 3 Hours,then the member is Female"
   ]
  },
  {
   "cell_type": "code",
   "execution_count": 40,
   "metadata": {},
   "outputs": [
    {
     "data": {
      "text/plain": [
       "<Axes: xlabel='member_gender', ylabel='duration_sec'>"
      ]
     },
     "execution_count": 40,
     "metadata": {},
     "output_type": "execute_result"
    },
    {
     "data": {
      "image/png": "[encoded data removed]",
      "text/plain": [
       "<Figure size 640x480 with 1 Axes>"
      ]
     },
     "metadata": {},
     "output_type": "display_data"
    }
   ],
   "source": [
    "sns.scatterplot(x=df[\"member_gender\"], y=df[\"duration_sec\"])"
   ]
  },
  {
   "cell_type": "code",
   "execution_count": 41,
   "metadata": {},
   "outputs": [
    {
     "data": {
      "text/plain": [
       "10512"
      ]
     },
     "execution_count": 41,
     "metadata": {},
     "output_type": "execute_result"
    }
   ],
   "source": [
    "# The maximum time males take it\n",
    "df[df['member_gender']=='Male']['duration_sec'].max()"
   ]
  },
  {
   "cell_type": "markdown",
   "metadata": {},
   "source": [
    "##### What is the most common gender used bike? ----> Female which represent 96% from bikers"
   ]
  },
  {
   "cell_type": "code",
   "execution_count": 42,
   "metadata": {},
   "outputs": [
    {
     "data": {
      "text/plain": [
       "<matplotlib.legend.Legend at 0x1e143aefcb0>"
      ]
     },
     "execution_count": 42,
     "metadata": {},
     "output_type": "execute_result"
    },
    {
     "data": {
      "image/png": "[encoded data removed]",
      "text/plain": [
       "<Figure size 500x500 with 1 Axes>"
      ]
     },
     "metadata": {},
     "output_type": "display_data"
    }
   ],
   "source": [
    "plt.figure(figsize=(5,5))\n",
    "\n",
    "temp=df['member_gender'].value_counts()\n",
    "plt.pie(temp.values, labels=temp.index, explode=[0, 0.15], autopct=\"%1.2f%%\", shadow=True)\n",
    "\n",
    "plt.title('Gender Distribution')\n",
    "plt.legend(loc='upper right')"
   ]
  },
  {
   "cell_type": "markdown",
   "metadata": {},
   "source": [
    "##### Is there a relationship between gender and user type (e.q., Subscriber, Customer) ? -----> NO, both genders are subscribers"
   ]
  },
  {
   "cell_type": "code",
   "execution_count": 43,
   "metadata": {},
   "outputs": [
    {
     "data": {
      "text/plain": [
       "Text(0.5, 0, 'Gender')"
      ]
     },
     "execution_count": 43,
     "metadata": {},
     "output_type": "execute_result"
    },
    {
     "data": {
      "image/png": "[encoded data removed]",
      "text/plain": [
       "<Figure size 500x500 with 1 Axes>"
      ]
     },
     "metadata": {},
     "output_type": "display_data"
    }
   ],
   "source": [
    "plt.figure(figsize=(5, 5))\n",
    "sns.countplot(data=df, x='member_gender', hue='user_type')\n",
    "plt.title('Distribution of User Types by Gender')\n",
    "plt.xlabel('Gender')"
   ]
  },
  {
   "cell_type": "markdown",
   "metadata": {},
   "source": [
    "##### is there a specific bike for subscribers or customers -----> No"
   ]
  },
  {
   "cell_type": "code",
   "execution_count": 44,
   "metadata": {},
   "outputs": [
    {
     "data": {
      "text/plain": [
       "<Axes: xlabel='bike_id', ylabel='user_type'>"
      ]
     },
     "execution_count": 44,
     "metadata": {},
     "output_type": "execute_result"
    },
    {
     "data": {
      "image/png": "[encoded data removed]",
      "text/plain": [
       "<Figure size 640x480 with 1 Axes>"
      ]
     },
     "metadata": {},
     "output_type": "display_data"
    }
   ],
   "source": [
    "sns.scatterplot(x=df[\"bike_id\"], y=df[\"user_type\"])"
   ]
  },
  {
   "cell_type": "markdown",
   "metadata": {},
   "source": [
    "#### Adults Females (20:40 age) are most used the bikes"
   ]
  },
  {
   "cell_type": "code",
   "execution_count": 45,
   "metadata": {},
   "outputs": [],
   "source": [
    "df['member_birth_year']=df['member_birth_year'].astype('int')\n",
    "df['age']=2019-df['member_birth_year']"
   ]
  },
  {
   "cell_type": "code",
   "execution_count": 46,
   "metadata": {},
   "outputs": [
    {
     "data": {
      "text/plain": [
       "<Axes: xlabel='member_gender', ylabel='age'>"
      ]
     },
     "execution_count": 46,
     "metadata": {},
     "output_type": "execute_result"
    },
    {
     "data": {
      "image/png": "[encoded data removed]",
      "text/plain": [
       "<Figure size 640x480 with 1 Axes>"
      ]
     },
     "metadata": {},
     "output_type": "display_data"
    }
   ],
   "source": [
    "sns.boxplot(data=df, x='member_gender', y='age')"
   ]
  },
  {
   "cell_type": "code",
   "execution_count": 47,
   "metadata": {},
   "outputs": [
    {
     "data": {
      "image/png": "[encoded data removed]",
      "text/plain": [
       "<Figure size 640x480 with 1 Axes>"
      ]
     },
     "metadata": {},
     "output_type": "display_data"
    }
   ],
   "source": [
    "# Count of bike usage by gender and age group\n",
    "df['age_group'] = pd.cut(df['age'], bins=[0, 20, 40, 60, 80, 100], labels=['0-20', '20-40', '40-60', '60-80', '80-100'])\n",
    "sns.countplot(x='age_group', hue='member_gender', data=df)\n",
    "plt.title(\"Bike Usage by Age Group and Gender\")\n",
    "plt.xlabel(\"Age Group\")\n",
    "plt.ylabel(\"Count\")\n",
    "plt.legend(title=\"Gender\")\n",
    "plt.show()\n"
   ]
  },
  {
   "cell_type": "markdown",
   "metadata": {},
   "source": [
    "#### observe that people (20:40) age are Subscriber more than Customers"
   ]
  },
  {
   "cell_type": "code",
   "execution_count": 48,
   "metadata": {},
   "outputs": [
    {
     "data": {
      "image/png": "[encoded data removed]",
      "text/plain": [
       "<Figure size 640x480 with 1 Axes>"
      ]
     },
     "metadata": {},
     "output_type": "display_data"
    }
   ],
   "source": [
    "# Count of bike usage by gender and age group\n",
    "df['age_group'] = pd.cut(df['age'], bins=[0, 20, 40, 60, 80, 100], labels=['0-20', '20-40', '40-60', '60-80', '80-100'])\n",
    "sns.countplot(x='age_group', hue='user_type', data=df)\n",
    "plt.title(\"Bike Usage by Age Group and user_state\")\n",
    "plt.xlabel(\"Age Group\")\n",
    "plt.ylabel(\"Count\")\n",
    "plt.legend(title=\"User_type\")\n",
    "plt.show()\n"
   ]
  },
  {
   "cell_type": "markdown",
   "metadata": {},
   "source": [
    "### there is no relation between user_type and duration of trip"
   ]
  },
  {
   "cell_type": "code",
   "execution_count": 49,
   "metadata": {},
   "outputs": [
    {
     "data": {
      "text/plain": [
       "<Axes: xlabel='user_type', ylabel='duration_sec'>"
      ]
     },
     "execution_count": 49,
     "metadata": {},
     "output_type": "execute_result"
    },
    {
     "data": {
      "image/png": "[encoded data removed]",
      "text/plain": [
       "<Figure size 640x480 with 1 Axes>"
      ]
     },
     "metadata": {},
     "output_type": "display_data"
    }
   ],
   "source": [
    "sns.scatterplot(data=df,x='user_type',y='duration_sec')"
   ]
  },
  {
   "cell_type": "markdown",
   "metadata": {},
   "source": [
    "#### The most common start station and end station -----> the 5 most common start stations are same end stations   "
   ]
  },
  {
   "cell_type": "code",
   "execution_count": 50,
   "metadata": {},
   "outputs": [
    {
     "data": {
      "text/plain": [
       "start_station_id\n",
       "67     4866\n",
       "58     4609\n",
       "15     4270\n",
       "81     3994\n",
       "21     3550\n",
       "       ... \n",
       "416      10\n",
       "234       9\n",
       "418       8\n",
       "415       5\n",
       "420       1\n",
       "Name: count, Length: 357, dtype: int64"
      ]
     },
     "execution_count": 50,
     "metadata": {},
     "output_type": "execute_result"
    }
   ],
   "source": [
    "df['start_station_id']=df['start_station_id'].astype('int')\n",
    "df['start_station_id'].value_counts()"
   ]
  },
  {
   "cell_type": "code",
   "execution_count": 51,
   "metadata": {},
   "outputs": [],
   "source": [
    "df['start_location']=df['start_station_name'].str.split().str[:2]"
   ]
  },
  {
   "cell_type": "code",
   "execution_count": 52,
   "metadata": {},
   "outputs": [
    {
     "data": {
      "text/plain": [
       "start_location\n",
       "[San, Francisco]      14663\n",
       "[Market, St]           7379\n",
       "[The, Embarcadero]     7241\n",
       "[Powell, St]           6812\n",
       "[Valencia, St]         5823\n",
       "                      ...  \n",
       "[21st, Ave]              16\n",
       "[Sonora, Ave]            14\n",
       "[Auzerais, Ave]          10\n",
       "[Farnam, St]              9\n",
       "[SF, Test]                1\n",
       "Name: count, Length: 245, dtype: int64"
      ]
     },
     "execution_count": 52,
     "metadata": {},
     "output_type": "execute_result"
    }
   ],
   "source": [
    "df['start_location'].value_counts()"
   ]
  },
  {
   "cell_type": "code",
   "execution_count": 53,
   "metadata": {},
   "outputs": [],
   "source": [
    "df['end_location']=df['end_station_name'].str.split().str[:2]"
   ]
  },
  {
   "cell_type": "code",
   "execution_count": 54,
   "metadata": {},
   "outputs": [
    {
     "data": {
      "text/plain": [
       "end_location\n",
       "[San, Francisco]      17122\n",
       "[The, Embarcadero]     7722\n",
       "[Market, St]           7289\n",
       "[Powell, St]           6973\n",
       "[Valencia, St]         5731\n",
       "                      ...  \n",
       "[Gish, Rd]               18\n",
       "[Willow, St]             15\n",
       "[21st, Ave]              14\n",
       "[Auzerais, Ave]          11\n",
       "[Farnam, St]             11\n",
       "Name: count, Length: 245, dtype: int64"
      ]
     },
     "execution_count": 54,
     "metadata": {},
     "output_type": "execute_result"
    }
   ],
   "source": [
    "df['end_location'].value_counts()"
   ]
  },
  {
   "cell_type": "markdown",
   "metadata": {},
   "source": [
    "#### are there specific bikes for a long trip? ----> NO"
   ]
  },
  {
   "cell_type": "code",
   "execution_count": 55,
   "metadata": {},
   "outputs": [
    {
     "data": {
      "text/plain": [
       "<Axes: xlabel='bike_id', ylabel='duration_sec'>"
      ]
     },
     "execution_count": 55,
     "metadata": {},
     "output_type": "execute_result"
    },
    {
     "data": {
      "image/png": "[encoded data removed]",
      "text/plain": [
       "<Figure size 640x480 with 1 Axes>"
      ]
     },
     "metadata": {},
     "output_type": "display_data"
    }
   ],
   "source": [
    "sns.scatterplot(data=df,x='bike_id',y='duration_sec')"
   ]
  },
  {
   "cell_type": "code",
   "execution_count": 56,
   "metadata": {},
   "outputs": [],
   "source": [
    "df['days']=df['start_time'].dt.day"
   ]
  },
  {
   "cell_type": "code",
   "execution_count": 57,
   "metadata": {},
   "outputs": [
    {
     "data": {
      "image/png": "[encoded data removed]",
      "text/plain": [
       "<Figure size 1600x600 with 1 Axes>"
      ]
     },
     "metadata": {},
     "output_type": "display_data"
    }
   ],
   "source": [
    "plt.figure(figsize=(16, 6))\n",
    "\n",
    "sns.barplot(x=df['days'].value_counts().index, y=df['days'].value_counts())\n",
    "plt.xlabel('Days')\n",
    "plt.title('Days Distribution')\n",
    "\n",
    "dep = df['days'].value_counts()\n",
    "for i, value in enumerate(dep.values):\n",
    "    plt.text(dep.index[i]-1, value + 5, str(value), ha='center')\n",
    "plt.show()"
   ]
  },
  {
   "cell_type": "code",
   "execution_count": 58,
   "metadata": {},
   "outputs": [],
   "source": [
    "df['hours']=df['start_time'].dt.hour"
   ]
  },
  {
   "cell_type": "code",
   "execution_count": 59,
   "metadata": {},
   "outputs": [
    {
     "data": {
      "image/png": "[encoded data removed]",
      "text/plain": [
       "<Figure size 1600x600 with 1 Axes>"
      ]
     },
     "metadata": {},
     "output_type": "display_data"
    }
   ],
   "source": [
    "plt.figure(figsize=(16, 6))\n",
    "\n",
    "sns.barplot(x=df['hours'].value_counts().index, y=df['hours'].value_counts())\n",
    "plt.xlabel('hours')\n",
    "plt.title('hours Distribution')\n",
    "\n",
    "dep = df['hours'].value_counts()\n",
    "for i, value in enumerate(dep.values):\n",
    "    plt.text(dep.index[i], value + 5, str(value), ha='center')\n",
    "plt.show()"
   ]
  },
  {
   "cell_type": "code",
   "execution_count": 60,
   "metadata": {},
   "outputs": [],
   "source": [
    "df['hours_end']=df['end_time'].dt.hour"
   ]
  },
  {
   "cell_type": "code",
   "execution_count": 61,
   "metadata": {},
   "outputs": [
    {
     "data": {
      "image/png": "[encoded data removed]",
      "text/plain": [
       "<Figure size 1600x600 with 1 Axes>"
      ]
     },
     "metadata": {},
     "output_type": "display_data"
    }
   ],
   "source": [
    "plt.figure(figsize=(16, 6))\n",
    "\n",
    "sns.barplot(x=df['hours_end'].value_counts().index, y=df['hours_end'].value_counts())\n",
    "plt.xlabel('hours_end')\n",
    "plt.title('hours_end Distribution')\n",
    "\n",
    "dep = df['hours_end'].value_counts()\n",
    "for i, value in enumerate(dep.values):\n",
    "    plt.text(dep.index[i], value + 5, str(value), ha='center')\n",
    "plt.show()"
   ]
  },
  {
   "cell_type": "code",
   "execution_count": null,
   "metadata": {},
   "outputs": [],
   "source": []
  },
  {
   "cell_type": "code",
   "execution_count": null,
   "metadata": {},
   "outputs": [],
   "source": []
  },
  {
   "cell_type": "code",
   "execution_count": null,
   "metadata": {},
   "outputs": [],
   "source": []
  },
  {
   "cell_type": "code",
   "execution_count": null,
   "metadata": {},
   "outputs": [],
   "source": []
  },
  {
   "cell_type": "code",
   "execution_count": null,
   "metadata": {},
   "outputs": [],
   "source": []
  }
 ],
 "metadata": {
  "kernelspec": {
   "display_name": "base",
   "language": "python",
   "name": "python3"
  },
  "language_info": {
   "codemirror_mode": {
    "name": "ipython",
    "version": 3
   },
   "file_extension": ".py",
   "mimetype": "text/x-python",
   "name": "python",
   "nbconvert_exporter": "python",
   "pygments_lexer": "ipython3",
   "version": "3.12.4"
  }
 },
 "nbformat": 4,
 "nbformat_minor": 2
}
